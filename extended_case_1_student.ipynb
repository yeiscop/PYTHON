{
  "nbformat": 4,
  "nbformat_minor": 0,
  "metadata": {
    "kernelspec": {
      "display_name": "Python 3",
      "language": "python",
      "name": "python3"
    },
    "language_info": {
      "codemirror_mode": {
        "name": "ipython",
        "version": 3
      },
      "file_extension": ".py",
      "mimetype": "text/x-python",
      "name": "python",
      "nbconvert_exporter": "python",
      "pygments_lexer": "ipython3",
      "version": "3.6.7"
    },
    "colab": {
      "name": "extended_case_1_student.ipynb",
      "provenance": [],
      "collapsed_sections": [],
      "include_colab_link": true
    }
  },
  "cells": [
    {
      "cell_type": "markdown",
      "metadata": {
        "id": "view-in-github",
        "colab_type": "text"
      },
      "source": [
        "<a href=\"https://colab.research.google.com/github/yeiscop/PYTHON/blob/master/extended_case_1_student.ipynb\" target=\"_parent\"><img src=\"https://colab.research.google.com/assets/colab-badge.svg\" alt=\"Open In Colab\"/></a>"
      ]
    },
    {
      "cell_type": "markdown",
      "metadata": {
        "id": "vXfeNV0T2ODa",
        "colab_type": "text"
      },
      "source": [
        "<h1>How can we control the increasing number of accidents in New York?</h1>"
      ]
    },
    {
      "cell_type": "code",
      "metadata": {
        "id": "1_-dz0HA2ODb",
        "colab_type": "code",
        "colab": {}
      },
      "source": [
        "import json\n",
        "import requests\n",
        "from bs4 import BeautifulSoup\n",
        "import pandas as pd\n",
        "import matplotlib.pyplot as plt\n",
        "import seaborn as sns\n",
        "import numpy"
      ],
      "execution_count": 2,
      "outputs": []
    },
    {
      "cell_type": "markdown",
      "metadata": {
        "id": "ZeoZK82RVrm_",
        "colab_type": "text"
      },
      "source": [
        "![texto alternativo](https://4.bp.blogspot.com/-ImwjGBnN9Yg/VuYgbbaNBJI/AAAAAAAAA_o/rdXnY7x6I8svIEsXRcm51-jrj_Lopdb-w/s1600/E2-U3.png)\n",
        "\n",
        "http://127.0.0.1:8888/view/work/Bootcamps/3.%2BStatistics%2BFundamentals/Distributions.png"
      ]
    },
    {
      "cell_type": "markdown",
      "metadata": {
        "id": "4fjrptdG2ODf",
        "colab_type": "text"
      },
      "source": [
        "<h2>Introduction</h2>"
      ]
    },
    {
      "cell_type": "markdown",
      "metadata": {
        "id": "3EH8ryBM2ODg",
        "colab_type": "text"
      },
      "source": [
        "<p><strong>Business Context.</strong> The city of New York has seen a rise in the number of accidents on the roads in the city. They would like to know if the number of accidents have increased in the last few weeks. For all the reported accidents, they have collected details for each accident and have been maintaining records for the past year and a half (from January 2018 to August 2019). </p>\n",
        "<p>The city has contracted you to build visualizations that would help them identify patterns in accidents, which would help them take preventive actions to reduce the number of accidents in the future. They have certain parameters like borough, time of day, reason for accident, etc. Which they care about and which they would like to get specific information on.</p>"
      ]
    },
    {
      "cell_type": "markdown",
      "metadata": {
        "id": "z1e7ODYl2ODg",
        "colab_type": "text"
      },
      "source": [
        "<p><strong>Business Problem.</strong> Your task is to format the given data and provide visualizations that would answer the specific questions the client has, which are mentioned below.</p>"
      ]
    },
    {
      "cell_type": "markdown",
      "metadata": {
        "id": "lFXAEsy62ODh",
        "colab_type": "text"
      },
      "source": [
        "<p><strong>Analytical Context.</strong> You are given a CSV file (stored in the already created <code>data</code> folder) containing details about each accident like date, time, location of the accident, reason for the accident, types of vehicles involved, injury and death count, etc. The delimiter in the given CSV file is <code>;</code> instead of the default <code>,</code>. You will be performing the following tasks on the data:</p>\n",
        "<ol>\n",
        "<li>Extract additional borough data stored in a JSON file</li>\n",
        "<li>Read, transform, and prepare data for visualization</li>\n",
        "<li>Perform analytics and construct visualizations of the data to identify patterns in the dataset</li>\n",
        "</ol>\n",
        "<p>The client has a specific set of questions they would like to get answers to. You will need to provide visualizations to accompany these:</p>\n",
        "<ol>\n",
        "<li>How have the number of accidents fluctuated over the past year and a half? Have they increased over the time?</li>\n",
        "<li>For any particular day, during which hours are accidents most likely to occur?</li>\n",
        "<li>Are there more accidents on weekdays than weekends?</li>\n",
        "<li>What are the accidents count-to-area ratio per borough? Which boroughs have disproportionately large numbers of accidents for their size?</li>\n",
        "<li>For each borough, during which hours are accidents most likely to occur?</li>\n",
        "<li>What are the top 5 causes of accidents in the city? </li>\n",
        "<li>What types of vehicles are most involved in accidents per borough?</li>\n",
        "<li>What types of vehicles are most involved in deaths?</li>\n",
        "</ol>"
      ]
    },
    {
      "cell_type": "markdown",
      "metadata": {
        "id": "osbbOzaW2ODi",
        "colab_type": "text"
      },
      "source": [
        "<h2>Fetching the relevant data</h2>"
      ]
    },
    {
      "cell_type": "markdown",
      "metadata": {
        "id": "XPnji0d82ODj",
        "colab_type": "text"
      },
      "source": [
        "<p>The client has requested analysis of the accidents-to-area ratio for boroughs. Borough data is stored in a JSON file in the <code>data</code> folder.</p>"
      ]
    },
    {
      "cell_type": "markdown",
      "metadata": {
        "id": "SIv2Xn3Z2ODj",
        "colab_type": "text"
      },
      "source": [
        "<h3>Question :</h3>\n",
        "<p>Use the function <code>json.load()</code> to load the file <code>borough_data.json</code> as a dictionary.</p>"
      ]
    },
    {
      "cell_type": "markdown",
      "metadata": {
        "tags": [
          "ans_st"
        ],
        "id": "mX76sz6t2ODk",
        "colab_type": "text"
      },
      "source": [
        "**Answer.**"
      ]
    },
    {
      "cell_type": "code",
      "metadata": {
        "id": "m9AJwbWb2ODl",
        "colab_type": "code",
        "colab": {
          "base_uri": "https://localhost:8080/",
          "height": 150
        },
        "outputId": "bf8e3938-fe87-4e80-a7b5-26528a180f98"
      },
      "source": [
        "json_load = open(r\"borough_data.json\")\n",
        "borough = json.load(json_load)\n",
        "type(borough), borough"
      ],
      "execution_count": 3,
      "outputs": [
        {
          "output_type": "execute_result",
          "data": {
            "text/plain": [
              "(dict,\n",
              " {'brooklyn': {'area': 70.82, 'name': 'brooklyn', 'population': 2648771.0},\n",
              "  'manhattan': {'area': 22.83, 'name': 'manhattan', 'population': 1664727.0},\n",
              "  'queens': {'area': 108.53, 'name': 'queens', 'population': 2358582.0},\n",
              "  'staten island': {'area': 58.37,\n",
              "   'name': 'staten island',\n",
              "   'population': 479458.0},\n",
              "  'the bronx': {'area': 42.1, 'name': 'the bronx', 'population': 1471160.0}})"
            ]
          },
          "metadata": {
            "tags": []
          },
          "execution_count": 3
        }
      ]
    },
    {
      "cell_type": "markdown",
      "metadata": {
        "id": "hYVeb0TG2ODp",
        "colab_type": "text"
      },
      "source": [
        "-------"
      ]
    },
    {
      "cell_type": "markdown",
      "metadata": {
        "id": "PTy77-wC2ODq",
        "colab_type": "text"
      },
      "source": [
        "<h3>Question :</h3>\n",
        "<p>Similarly, use the pandas function <code>read_csv()</code> to load the file <code>accidents.csv</code> as a DataFrame. Name this DataFrame <code>df</code>. </p>"
      ]
    },
    {
      "cell_type": "markdown",
      "metadata": {
        "tags": [
          "ans_st"
        ],
        "id": "oIvIpCXE2ODq",
        "colab_type": "text"
      },
      "source": [
        "**Answer.**"
      ]
    },
    {
      "cell_type": "code",
      "metadata": {
        "id": "d_A732ah2ODr",
        "colab_type": "code",
        "colab": {
          "base_uri": "https://localhost:8080/",
          "height": 288
        },
        "outputId": "51027901-33cf-40b1-9ba8-63e1c070aea5"
      },
      "source": [
        "df = pd.read_csv(\"accidents.csv\", sep=';', error_bad_lines=False)\n",
        "df.shape"
      ],
      "execution_count": 12,
      "outputs": [
        {
          "output_type": "stream",
          "text": [
            "b'Skipping line 12388: expected 24 fields, saw 26\\nSkipping line 18544: expected 24 fields, saw 27\\nSkipping line 24727: expected 24 fields, saw 34\\n'\n",
            "b'Skipping line 37030: expected 24 fields, saw 32\\nSkipping line 55418: expected 24 fields, saw 37\\n'\n",
            "b'Skipping line 73853: expected 24 fields, saw 32\\nSkipping line 86190: expected 24 fields, saw 31\\n'\n",
            "b'Skipping line 104714: expected 24 fields, saw 25\\nSkipping line 117023: expected 24 fields, saw 38\\nSkipping line 129321: expected 24 fields, saw 37\\n'\n",
            "b'Skipping line 135482: expected 24 fields, saw 30\\nSkipping line 147787: expected 24 fields, saw 31\\nSkipping line 160062: expected 24 fields, saw 32\\n'\n",
            "b'Skipping line 178478: expected 24 fields, saw 27\\nSkipping line 190811: expected 24 fields, saw 26\\n'\n",
            "b'Skipping line 196975: expected 24 fields, saw 32\\nSkipping line 209250: expected 24 fields, saw 35\\nSkipping line 221538: expected 24 fields, saw 36\\nSkipping line 227699: expected 24 fields, saw 31\\n'\n",
            "b'Skipping line 239997: expected 24 fields, saw 31\\nSkipping line 246143: expected 24 fields, saw 30\\nSkipping line 258431: expected 24 fields, saw 30\\n'\n",
            "b'Skipping line 270689: expected 24 fields, saw 27\\nSkipping line 289096: expected 24 fields, saw 38\\n'\n",
            "b'Skipping line 301309: expected 24 fields, saw 41\\nSkipping line 307330: expected 24 fields, saw 28\\n'\n",
            "b'Skipping line 337780: expected 24 fields, saw 37\\nSkipping line 349961: expected 24 fields, saw 41\\n'\n",
            "b'Skipping line 362072: expected 24 fields, saw 34\\nSkipping line 368108: expected 24 fields, saw 30\\n'\n",
            "/usr/local/lib/python3.6/dist-packages/IPython/core/interactiveshell.py:2718: DtypeWarning: Columns (3,4,5,7,9,10,11,12,18) have mixed types.Specify dtype option on import or set low_memory=False.\n",
            "  interactivity=interactivity, compiler=compiler, result=result)\n"
          ],
          "name": "stderr"
        },
        {
          "output_type": "execute_result",
          "data": {
            "text/plain": [
              "(427768, 24)"
            ]
          },
          "metadata": {
            "tags": []
          },
          "execution_count": 12
        }
      ]
    },
    {
      "cell_type": "code",
      "metadata": {
        "id": "twkdLJ2y2ODv",
        "colab_type": "code",
        "colab": {
          "base_uri": "https://localhost:8080/",
          "height": 350
        },
        "outputId": "860cf464-6dc3-4404-8ac6-61b99d070a67"
      },
      "source": [
        "df.head()"
      ],
      "execution_count": 8,
      "outputs": [
        {
          "output_type": "execute_result",
          "data": {
            "text/html": [
              "<div>\n",
              "<style scoped>\n",
              "    .dataframe tbody tr th:only-of-type {\n",
              "        vertical-align: middle;\n",
              "    }\n",
              "\n",
              "    .dataframe tbody tr th {\n",
              "        vertical-align: top;\n",
              "    }\n",
              "\n",
              "    .dataframe thead th {\n",
              "        text-align: right;\n",
              "    }\n",
              "</style>\n",
              "<table border=\"1\" class=\"dataframe\">\n",
              "  <thead>\n",
              "    <tr style=\"text-align: right;\">\n",
              "      <th></th>\n",
              "      <th>DATE</th>\n",
              "      <th>TIME</th>\n",
              "      <th>BOROUGH</th>\n",
              "      <th>ZIP CODE</th>\n",
              "      <th>LATITUDE</th>\n",
              "      <th>LONGITUDE</th>\n",
              "      <th>ON STREET NAME</th>\n",
              "      <th>NUMBER OF PEDESTRIANS INJURED</th>\n",
              "      <th>NUMBER OF PEDESTRIANS KILLED</th>\n",
              "      <th>NUMBER OF CYCLIST INJURED</th>\n",
              "      <th>NUMBER OF CYCLIST KILLED</th>\n",
              "      <th>NUMBER OF MOTORIST INJURED</th>\n",
              "      <th>NUMBER OF MOTORIST KILLED</th>\n",
              "      <th>CONTRIBUTING FACTOR VEHICLE 1</th>\n",
              "      <th>CONTRIBUTING FACTOR VEHICLE 2</th>\n",
              "      <th>CONTRIBUTING FACTOR VEHICLE 3</th>\n",
              "      <th>CONTRIBUTING FACTOR VEHICLE 4</th>\n",
              "      <th>CONTRIBUTING FACTOR VEHICLE 5</th>\n",
              "      <th>COLLISION_ID</th>\n",
              "      <th>VEHICLE TYPE CODE 1</th>\n",
              "      <th>VEHICLE TYPE CODE 2</th>\n",
              "      <th>VEHICLE TYPE CODE 3</th>\n",
              "      <th>VEHICLE TYPE CODE 4</th>\n",
              "      <th>VEHICLE TYPE CODE 5</th>\n",
              "    </tr>\n",
              "  </thead>\n",
              "  <tbody>\n",
              "    <tr>\n",
              "      <th>0</th>\n",
              "      <td>09/26/2018</td>\n",
              "      <td>12:12</td>\n",
              "      <td>BRONX</td>\n",
              "      <td>10454</td>\n",
              "      <td>40.809</td>\n",
              "      <td>-73.911316</td>\n",
              "      <td>NaN</td>\n",
              "      <td>0</td>\n",
              "      <td>0.0</td>\n",
              "      <td>0</td>\n",
              "      <td>0</td>\n",
              "      <td>0</td>\n",
              "      <td>0</td>\n",
              "      <td>Unspecified</td>\n",
              "      <td>NaN</td>\n",
              "      <td>NaN</td>\n",
              "      <td>NaN</td>\n",
              "      <td>NaN</td>\n",
              "      <td>3988123</td>\n",
              "      <td>Sedan</td>\n",
              "      <td>NaN</td>\n",
              "      <td>NaN</td>\n",
              "      <td>NaN</td>\n",
              "      <td>NaN</td>\n",
              "    </tr>\n",
              "    <tr>\n",
              "      <th>1</th>\n",
              "      <td>09/25/2018</td>\n",
              "      <td>16:30</td>\n",
              "      <td>BROOKLYN</td>\n",
              "      <td>11236</td>\n",
              "      <td>40.636</td>\n",
              "      <td>-73.91251</td>\n",
              "      <td>FLATLANDS AVENUE</td>\n",
              "      <td>1</td>\n",
              "      <td>0.0</td>\n",
              "      <td>0</td>\n",
              "      <td>0</td>\n",
              "      <td>0</td>\n",
              "      <td>0</td>\n",
              "      <td>Unspecified</td>\n",
              "      <td>NaN</td>\n",
              "      <td>NaN</td>\n",
              "      <td>NaN</td>\n",
              "      <td>NaN</td>\n",
              "      <td>3987962</td>\n",
              "      <td>Sedan</td>\n",
              "      <td>NaN</td>\n",
              "      <td>NaN</td>\n",
              "      <td>NaN</td>\n",
              "      <td>NaN</td>\n",
              "    </tr>\n",
              "    <tr>\n",
              "      <th>2</th>\n",
              "      <td>08/22/2019</td>\n",
              "      <td>19:30</td>\n",
              "      <td>QUEENS</td>\n",
              "      <td>11101</td>\n",
              "      <td>40.7555</td>\n",
              "      <td>-73.93953</td>\n",
              "      <td>NaN</td>\n",
              "      <td>0</td>\n",
              "      <td>0.0</td>\n",
              "      <td>0</td>\n",
              "      <td>0</td>\n",
              "      <td>0</td>\n",
              "      <td>0</td>\n",
              "      <td>Unspecified</td>\n",
              "      <td>NaN</td>\n",
              "      <td>NaN</td>\n",
              "      <td>NaN</td>\n",
              "      <td>NaN</td>\n",
              "      <td>4193132</td>\n",
              "      <td>Sedan</td>\n",
              "      <td>NaN</td>\n",
              "      <td>NaN</td>\n",
              "      <td>NaN</td>\n",
              "      <td>NaN</td>\n",
              "    </tr>\n",
              "    <tr>\n",
              "      <th>3</th>\n",
              "      <td>09/23/2018</td>\n",
              "      <td>13:10</td>\n",
              "      <td>QUEENS</td>\n",
              "      <td>11367</td>\n",
              "      <td>NaN</td>\n",
              "      <td>NaN</td>\n",
              "      <td>MAIN STREET</td>\n",
              "      <td>0</td>\n",
              "      <td>0.0</td>\n",
              "      <td>1</td>\n",
              "      <td>0</td>\n",
              "      <td>0</td>\n",
              "      <td>0</td>\n",
              "      <td>Driver Inattention/Distraction</td>\n",
              "      <td>Unspecified</td>\n",
              "      <td>NaN</td>\n",
              "      <td>NaN</td>\n",
              "      <td>NaN</td>\n",
              "      <td>3985962</td>\n",
              "      <td>Bike</td>\n",
              "      <td>Station Wagon/Sport Utility Vehicle</td>\n",
              "      <td>NaN</td>\n",
              "      <td>NaN</td>\n",
              "      <td>NaN</td>\n",
              "    </tr>\n",
              "    <tr>\n",
              "      <th>4</th>\n",
              "      <td>08/20/2019</td>\n",
              "      <td>22:40</td>\n",
              "      <td>BRONX</td>\n",
              "      <td>10468</td>\n",
              "      <td>40.8683</td>\n",
              "      <td>-73.90127</td>\n",
              "      <td>NaN</td>\n",
              "      <td>0</td>\n",
              "      <td>0.0</td>\n",
              "      <td>0</td>\n",
              "      <td>0</td>\n",
              "      <td>1</td>\n",
              "      <td>0</td>\n",
              "      <td>View Obstructed/Limited</td>\n",
              "      <td>Unspecified</td>\n",
              "      <td>NaN</td>\n",
              "      <td>NaN</td>\n",
              "      <td>NaN</td>\n",
              "      <td>4192111</td>\n",
              "      <td>Sedan</td>\n",
              "      <td>Sedan</td>\n",
              "      <td>NaN</td>\n",
              "      <td>NaN</td>\n",
              "      <td>NaN</td>\n",
              "    </tr>\n",
              "  </tbody>\n",
              "</table>\n",
              "</div>"
            ],
            "text/plain": [
              "         DATE   TIME  ... VEHICLE TYPE CODE 4 VEHICLE TYPE CODE 5\n",
              "0  09/26/2018  12:12  ...                 NaN                 NaN\n",
              "1  09/25/2018  16:30  ...                 NaN                 NaN\n",
              "2  08/22/2019  19:30  ...                 NaN                 NaN\n",
              "3  09/23/2018  13:10  ...                 NaN                 NaN\n",
              "4  08/20/2019  22:40  ...                 NaN                 NaN\n",
              "\n",
              "[5 rows x 24 columns]"
            ]
          },
          "metadata": {
            "tags": []
          },
          "execution_count": 8
        }
      ]
    },
    {
      "cell_type": "markdown",
      "metadata": {
        "id": "kTEfYH-k2ODz",
        "colab_type": "text"
      },
      "source": [
        "-------"
      ]
    },
    {
      "cell_type": "markdown",
      "metadata": {
        "id": "ElunwNrS2ODz",
        "colab_type": "text"
      },
      "source": [
        "<h2>Overview of the data</h2>"
      ]
    },
    {
      "cell_type": "markdown",
      "metadata": {
        "id": "CD8GTrdO2OD0",
        "colab_type": "text"
      },
      "source": [
        "<p>Let's go through the columns present in the dataframe:</p>"
      ]
    },
    {
      "cell_type": "code",
      "metadata": {
        "id": "lHjvLQQB2OD1",
        "colab_type": "code",
        "colab": {
          "base_uri": "https://localhost:8080/",
          "height": 184
        },
        "outputId": "f11ce898-9329-49ba-bf04-4251eb82cfab"
      },
      "source": [
        "df.columns"
      ],
      "execution_count": 13,
      "outputs": [
        {
          "output_type": "execute_result",
          "data": {
            "text/plain": [
              "Index(['DATE', 'TIME', 'BOROUGH', 'ZIP CODE', 'LATITUDE', 'LONGITUDE',\n",
              "       'ON STREET NAME', 'NUMBER OF PEDESTRIANS INJURED',\n",
              "       'NUMBER OF PEDESTRIANS KILLED', 'NUMBER OF CYCLIST INJURED',\n",
              "       'NUMBER OF CYCLIST KILLED', 'NUMBER OF MOTORIST INJURED',\n",
              "       'NUMBER OF MOTORIST KILLED', 'CONTRIBUTING FACTOR VEHICLE 1',\n",
              "       'CONTRIBUTING FACTOR VEHICLE 2', 'CONTRIBUTING FACTOR VEHICLE 3',\n",
              "       'CONTRIBUTING FACTOR VEHICLE 4', 'CONTRIBUTING FACTOR VEHICLE 5',\n",
              "       'COLLISION_ID', 'VEHICLE TYPE CODE 1', 'VEHICLE TYPE CODE 2',\n",
              "       'VEHICLE TYPE CODE 3', 'VEHICLE TYPE CODE 4', 'VEHICLE TYPE CODE 5'],\n",
              "      dtype='object')"
            ]
          },
          "metadata": {
            "tags": []
          },
          "execution_count": 13
        }
      ]
    },
    {
      "cell_type": "markdown",
      "metadata": {
        "id": "4S1uAZsK2OD5",
        "colab_type": "text"
      },
      "source": [
        "<p>We have the following columns</p>\n",
        "<ol>\n",
        "<li><strong>BOROUGH</strong>: The borough in which the accident occured</li>\n",
        "<li><strong>COLLISION_ID</strong>: A unique identifier for this collision</li>\n",
        "<li><strong>CONTRIBUTING FACTOR VEHICLE (1, 2, 3, 4, 5)</strong>: Reasons for the accident</li>\n",
        "<li><strong>CROSS STREET NAME</strong>: Nearest cross street to the place of accidents</li>\n",
        "<li><strong>DATE</strong>: Date of the accident</li>\n",
        "<li><strong>TIME</strong>: Time of accident</li>\n",
        "<li><strong>LATITUDE</strong>: Latitude of the accident</li>\n",
        "<li><strong>LONGITUDE</strong>: Longitude of the accident</li>\n",
        "<li><strong>NUMBER OF (CYCLISTS, MOTORISTS, PEDESTRIANS) INJURED</strong>: Category wise injury</li>\n",
        "<li><strong>NUMBER OF (CYCLISTS, MOTORISTS, PEDESTRIANS) KILLED</strong>: Category wise death</li>\n",
        "<li><strong>ON STREET NAME</strong>: Street where the accident occured</li>\n",
        "<li><strong>VEHICLE TYPE CODE (1, 2, 3, 4, 5)</strong>: Types of vehicles involved in the accident</li>\n",
        "<li><strong>ZIP CODE</strong>: zip code of the accident location</li>\n",
        "</ol>"
      ]
    },
    {
      "cell_type": "markdown",
      "metadata": {
        "id": "AdF75utY2OD6",
        "colab_type": "text"
      },
      "source": [
        "<h3>Exercise 1 [5 min]:</h3>\n",
        "<p>Since 2014, New York City has been implementing a road safety plan named <a href=\"https://www1.nyc.gov/content/visionzero/pages/\">Vision Zero</a>. It aims to reduce the number of traffic deaths to <em>zero</em> by the end of 2024. The plan is creating new and enhancing current safety measures, some of these include:</p>\n",
        "<ul>\n",
        "<li>[ ] Automated pedestrian detection</li>\n",
        "<li>[ ] Road safety audits at high risk locations</li>\n",
        "<li>[ ] Expansion in the cycle track network</li>\n",
        "<li>[ ] Targeted education and awareness initiatives</li>\n",
        "<li>[ ] Creation of pedestrian refuge islands</li>\n",
        "<li>[ ] Launch Integrated Data-Driven Speed Reducer Program (speed humps &amp; speed cushions)</li>\n",
        "</ul>\n",
        "<p>Which of these initiatives could directly benefit from an analysis of the data provided? Check all that apply.</p>\n",
        "<p><strong>Note:</strong> You can create check marks by double-clicking this cell and adding an <code>[x]</code> in the corresponding lines. </p>"
      ]
    },
    {
      "cell_type": "markdown",
      "metadata": {
        "tags": [
          "ans_st"
        ],
        "id": "EEVeuqao2OD7",
        "colab_type": "text"
      },
      "source": [
        "**Answer.**"
      ]
    },
    {
      "cell_type": "markdown",
      "metadata": {
        "id": "gw2P7qdP3ver",
        "colab_type": "text"
      },
      "source": [
        "<ul>\n",
        "<li>[ ] Automated pedestrian detection</li>\n",
        "<li>[ ] Road safety audits at high risk locations</li>\n",
        "<li>[ ] Expansion in the cycle track network</li>\n",
        "<li>[ ] Targeted education and awareness initiatives</li>\n",
        "<li>[ ] Creation of pedestrian refuge islands</li>\n",
        "<li>[ ] Launch Integrated Data-Driven Speed Reducer Program (speed humps &amp; speed cushions)</li>\n",
        "</ul>"
      ]
    },
    {
      "cell_type": "markdown",
      "metadata": {
        "id": "g8KqlP9i2OD8",
        "colab_type": "text"
      },
      "source": [
        "<p>Let's go ahead and answer each of the client's questions.</p>"
      ]
    },
    {
      "cell_type": "markdown",
      "metadata": {
        "id": "OFoj-DOr2OD9",
        "colab_type": "text"
      },
      "source": [
        "<h2>Answering the client's questions</h2>"
      ]
    },
    {
      "cell_type": "markdown",
      "metadata": {
        "id": "v3DGZAdR2OD9",
        "colab_type": "text"
      },
      "source": [
        "<h3>Exercise 2 [10 min]:</h3>\n",
        "<p>Group the available data on a monthly basis and generate a line plot of accidents over time. Has the number of accidents increased over the past year and a half?</p>\n",
        "<p><strong>Hint</strong>: You may find the pandas functions <code>to_datetime()</code> and <code>dt.to_period()</code> useful.</p>"
      ]
    },
    {
      "cell_type": "markdown",
      "metadata": {
        "tags": [
          "ans_st"
        ],
        "id": "mFWctO9o2OD-",
        "colab_type": "text"
      },
      "source": [
        "**Answer.**"
      ]
    },
    {
      "cell_type": "code",
      "metadata": {
        "id": "C1dol2K-2OD_",
        "colab_type": "code",
        "colab": {
          "base_uri": "https://localhost:8080/",
          "height": 201
        },
        "outputId": "fe5ed8bd-e534-473c-b89a-3c26c7da25e9"
      },
      "source": [
        "df['date'] = pd.to_datetime(df['DATE'], errors='coerce')\n",
        "df.date.head(), df.DATE.head()"
      ],
      "execution_count": 17,
      "outputs": [
        {
          "output_type": "execute_result",
          "data": {
            "text/plain": [
              "(0   2018-09-26\n",
              " 1   2018-09-25\n",
              " 2   2019-08-22\n",
              " 3   2018-09-23\n",
              " 4   2019-08-20\n",
              " Name: date, dtype: datetime64[ns], 0    09/26/2018\n",
              " 1    09/25/2018\n",
              " 2    08/22/2019\n",
              " 3    09/23/2018\n",
              " 4    08/20/2019\n",
              " Name: DATE, dtype: object)"
            ]
          },
          "metadata": {
            "tags": []
          },
          "execution_count": 17
        }
      ]
    },
    {
      "cell_type": "code",
      "metadata": {
        "id": "KIBV3wGd2OEC",
        "colab_type": "code",
        "colab": {
          "base_uri": "https://localhost:8080/",
          "height": 385
        },
        "outputId": "6dc3df3e-fd5e-4972-9861-0a9c155ddfc8"
      },
      "source": [
        "serie = df.groupby(df['date'].dt.to_period('M'))['DATE'].count()\n",
        "serie"
      ],
      "execution_count": 41,
      "outputs": [
        {
          "output_type": "execute_result",
          "data": {
            "text/plain": [
              "date\n",
              "2018-01    23469\n",
              "2018-02    20790\n",
              "2018-03    25037\n",
              "2018-04    23357\n",
              "2018-05    26871\n",
              "2018-06    26628\n",
              "2018-07    25489\n",
              "2018-08    19528\n",
              "2018-09    13945\n",
              "2018-10    26667\n",
              "2018-11    24894\n",
              "2018-12    24957\n",
              "2019-01    21995\n",
              "2019-02    20620\n",
              "2019-03    22961\n",
              "2019-04    21663\n",
              "2019-05    25265\n",
              "2019-06    13150\n",
              "2019-07    12013\n",
              "2019-08     8466\n",
              "Freq: M, Name: DATE, dtype: int64"
            ]
          },
          "metadata": {
            "tags": []
          },
          "execution_count": 41
        }
      ]
    },
    {
      "cell_type": "code",
      "metadata": {
        "id": "5jeQCyX7TG4W",
        "colab_type": "code",
        "colab": {
          "base_uri": "https://localhost:8080/",
          "height": 117
        },
        "outputId": "45f5e022-8254-436a-d67b-a469a42d4023"
      },
      "source": [
        "serie_data_frame = pd.DataFrame(serie)\n",
        "serie_data_frame.index, serie_data_frame.columns"
      ],
      "execution_count": 42,
      "outputs": [
        {
          "output_type": "execute_result",
          "data": {
            "text/plain": [
              "(PeriodIndex(['2018-01', '2018-02', '2018-03', '2018-04', '2018-05', '2018-06',\n",
              "              '2018-07', '2018-08', '2018-09', '2018-10', '2018-11', '2018-12',\n",
              "              '2019-01', '2019-02', '2019-03', '2019-04', '2019-05', '2019-06',\n",
              "              '2019-07', '2019-08'],\n",
              "             dtype='period[M]', name='date', freq='M'),\n",
              " Index(['DATE'], dtype='object'))"
            ]
          },
          "metadata": {
            "tags": []
          },
          "execution_count": 42
        }
      ]
    },
    {
      "cell_type": "code",
      "metadata": {
        "id": "clTCZkevTh7X",
        "colab_type": "code",
        "colab": {
          "base_uri": "https://localhost:8080/",
          "height": 309
        },
        "outputId": "99613047-3a88-4de2-8f97-31d93933f5e5"
      },
      "source": [
        ""
      ],
      "execution_count": 47,
      "outputs": [
        {
          "output_type": "execute_result",
          "data": {
            "text/plain": [
              "<matplotlib.axes._subplots.AxesSubplot at 0x7fd5d6999710>"
            ]
          },
          "metadata": {
            "tags": []
          },
          "execution_count": 47
        },
        {
          "output_type": "display_data",
          "data": {
            "image/png": "[encoded data removed]",
            "text/plain": [
              "<Figure size 432x288 with 1 Axes>"
            ]
          },
          "metadata": {
            "tags": [],
            "needs_background": "light"
          }
        }
      ]
    },
    {
      "cell_type": "code",
      "metadata": {
        "id": "cFzqfMBGTCZR",
        "colab_type": "code",
        "colab": {
          "base_uri": "https://localhost:8080/",
          "height": 444
        },
        "outputId": "c7b04d78-6e25-4f56-d79b-be15651a1b66"
      },
      "source": [
        ""
      ],
      "execution_count": 46,
      "outputs": [
        {
          "output_type": "display_data",
          "data": {
            "image/png": "[encoded data removed]",
            "text/plain": [
              "<Figure size 640x480 with 1 Axes>"
            ]
          },
          "metadata": {
            "tags": []
          }
        },
        {
          "output_type": "execute_result",
          "data": {
            "text/plain": [
              "<ggplot: (-9223363252079360424)>"
            ]
          },
          "metadata": {
            "tags": []
          },
          "execution_count": 46
        }
      ]
    },
    {
      "cell_type": "markdown",
      "metadata": {
        "id": "BVIDv7f_6ZN8",
        "colab_type": "text"
      },
      "source": [
        "* Grafique la serie\n",
        "* Agrupe por año\n",
        "* Medidas descriptivas de la serie"
      ]
    },
    {
      "cell_type": "markdown",
      "metadata": {
        "id": "9ZSkFpiS2OEL",
        "colab_type": "text"
      },
      "source": [
        "<h3>Exercise 3 [5 min]:</h3>\n",
        "<p>From the plot above, which months seem to have the least number of accidents? What do you think are the reasons behind this?</p>"
      ]
    },
    {
      "cell_type": "markdown",
      "metadata": {
        "tags": [
          "ans_st"
        ],
        "id": "yHfrpU682OEL",
        "colab_type": "text"
      },
      "source": [
        "**Answer.**"
      ]
    },
    {
      "cell_type": "markdown",
      "metadata": {
        "id": "o0ieP41f2OEM",
        "colab_type": "text"
      },
      "source": [
        ""
      ]
    },
    {
      "cell_type": "markdown",
      "metadata": {
        "id": "dz0sKf682OEN",
        "colab_type": "text"
      },
      "source": [
        "<h3>Exercise 4 :</h3>\n",
        "<p>How does the number of accidents vary throughout a single day? Create a new column <code>HOUR</code> based on the data from the <code>TIME</code> column, then plot a bar graph of the distribution per hour throughout the day.</p>\n",
        "<p><strong>Hint:</strong> You may find the function <code>dt.hour</code> useful. </p>"
      ]
    },
    {
      "cell_type": "markdown",
      "metadata": {
        "tags": [
          "ans_st"
        ],
        "id": "XKE9s5ZK2OEN",
        "colab_type": "text"
      },
      "source": [
        "**Answer.**"
      ]
    },
    {
      "cell_type": "markdown",
      "metadata": {
        "id": "XZaectGP2OEO",
        "colab_type": "text"
      },
      "source": [
        "<p>From this, we see that more accidents occur in the afternoon (2 - 6 PM) than at other times of day.</p>"
      ]
    },
    {
      "cell_type": "code",
      "metadata": {
        "id": "v5qGAYqfAtWF",
        "colab_type": "code",
        "colab": {
          "base_uri": "https://localhost:8080/",
          "height": 117
        },
        "outputId": "2915bebc-90c9-4d57-f56d-a3bdcebc1b4a"
      },
      "source": [
        "df.TIME.head()"
      ],
      "execution_count": 30,
      "outputs": [
        {
          "output_type": "execute_result",
          "data": {
            "text/plain": [
              "0    12:12\n",
              "1    16:30\n",
              "2    19:30\n",
              "3    13:10\n",
              "4    22:40\n",
              "Name: TIME, dtype: object"
            ]
          },
          "metadata": {
            "tags": []
          },
          "execution_count": 30
        }
      ]
    },
    {
      "cell_type": "code",
      "metadata": {
        "id": "fb633p5z2OEO",
        "colab_type": "code",
        "colab": {
          "base_uri": "https://localhost:8080/",
          "height": 117
        },
        "outputId": "61bdd43b-6a5f-4b45-fdf7-056a4513c328"
      },
      "source": [
        "df['time'] =pd.to_datetime(df['TIME'], errors='coerce')\n",
        "df.time.head()"
      ],
      "execution_count": 33,
      "outputs": [
        {
          "output_type": "execute_result",
          "data": {
            "text/plain": [
              "0   2020-09-02 12:12:00\n",
              "1   2020-09-02 16:30:00\n",
              "2   2020-09-02 19:30:00\n",
              "3   2020-09-02 13:10:00\n",
              "4   2020-09-02 22:40:00\n",
              "Name: time, dtype: datetime64[ns]"
            ]
          },
          "metadata": {
            "tags": []
          },
          "execution_count": 33
        }
      ]
    },
    {
      "cell_type": "code",
      "metadata": {
        "id": "5Uj9sux72OES",
        "colab_type": "code",
        "colab": {
          "base_uri": "https://localhost:8080/",
          "height": 217
        },
        "outputId": "7ad385ef-117f-4d62-de0f-6102289bf923"
      },
      "source": [
        "df[\"HOUR\"] = df.time.dt.hour\n",
        "df.HOUR"
      ],
      "execution_count": 35,
      "outputs": [
        {
          "output_type": "execute_result",
          "data": {
            "text/plain": [
              "0         12.0\n",
              "1         16.0\n",
              "2         19.0\n",
              "3         13.0\n",
              "4         22.0\n",
              "          ... \n",
              "427763    15.0\n",
              "427764    14.0\n",
              "427765    13.0\n",
              "427766    17.0\n",
              "427767    16.0\n",
              "Name: HOUR, Length: 427768, dtype: float64"
            ]
          },
          "metadata": {
            "tags": []
          },
          "execution_count": 35
        }
      ]
    },
    {
      "cell_type": "markdown",
      "metadata": {
        "id": "rbiSD9iDBhb5",
        "colab_type": "text"
      },
      "source": [
        "* Grafica por clase"
      ]
    },
    {
      "cell_type": "code",
      "metadata": {
        "id": "ubEzR17h2OEV",
        "colab_type": "code",
        "colab": {
          "base_uri": "https://localhost:8080/",
          "height": 308
        },
        "outputId": "28bf3165-74b0-49dc-cc4c-baffe1b65c18"
      },
      "source": [
        "#Graficas por clases\n"
      ],
      "execution_count": 38,
      "outputs": [
        {
          "output_type": "display_data",
          "data": {
            "image/png": "[encoded data removed]",
            "text/plain": [
              "<Figure size 432x288 with 1 Axes>"
            ]
          },
          "metadata": {
            "tags": [],
            "needs_background": "light"
          }
        }
      ]
    },
    {
      "cell_type": "code",
      "metadata": {
        "id": "dU0e5D0N2OEY",
        "colab_type": "code",
        "colab": {},
        "outputId": "ad191bb1-27f1-45c0-8c81-795f47416146"
      },
      "source": [
        "count_classes = pd.value_counts(df.HOUR, sort = True)\n",
        "count_classes"
      ],
      "execution_count": null,
      "outputs": [
        {
          "output_type": "execute_result",
          "data": {
            "text/plain": [
              "16    17536\n",
              "17    17209\n",
              "14    16889\n",
              "15    15886\n",
              "18    14899\n",
              "13    14224\n",
              "12    13731\n",
              "8     13403\n",
              "9     12939\n",
              "11    12815\n",
              "10    11981\n",
              "19    11885\n",
              "20     9597\n",
              "21     8330\n",
              "0      8160\n",
              "7      7399\n",
              "22     7216\n",
              "23     5807\n",
              "6      4844\n",
              "1      3460\n",
              "5      2878\n",
              "2      2570\n",
              "4      2562\n",
              "3      2302\n",
              "Name: HOUR, dtype: int64"
            ]
          },
          "metadata": {
            "tags": []
          },
          "execution_count": 125
        }
      ]
    },
    {
      "cell_type": "markdown",
      "metadata": {
        "id": "FVZGCkdM2OEc",
        "colab_type": "text"
      },
      "source": [
        "<h3>Exercise 5 :</h3>\n",
        "<p>In the above question we have aggregated the number accidents per hour disregarding the date and place of ocurrence. Which criticism would you give to this approach?</p>"
      ]
    },
    {
      "cell_type": "markdown",
      "metadata": {
        "tags": [
          "ans_st"
        ],
        "id": "0tylj4s32OEc",
        "colab_type": "text"
      },
      "source": [
        "**Answer.**"
      ]
    },
    {
      "cell_type": "markdown",
      "metadata": {
        "id": "kjjcBqk22OEd",
        "colab_type": "text"
      },
      "source": [
        "-------\n",
        "* The hour factor is important, but by itself it can lead to misinterpretation. Crossing the day of the week can indicate which are the days with the highest frequency of accidents per hour; The hours of a Sunday are not the same as those of a Friday; In addition, it can be said which days it has similar behavior. <br/>\n",
        "\n",
        "* Making another category or table crossed between place and time can indicate us spaces with the highest frequency of accidents in an hour to determine and that if it can be used to take preventive measures and if we add the day to that, the qualitative summary of the data would be substantially improved."
      ]
    },
    {
      "cell_type": "markdown",
      "metadata": {
        "id": "4qUPa1s-2OEd",
        "colab_type": "text"
      },
      "source": [
        "<h3>Exercise 6 :</h3>\n",
        "<p>How does the number of accidents vary throughout a single week? Plot a bar graph based on the accidents count by day of the week.</p>\n",
        "<p><strong>Hint:</strong> You may find the function <code>dt.weekday</code> useful.</p>"
      ]
    },
    {
      "cell_type": "markdown",
      "metadata": {
        "tags": [
          "ans_st"
        ],
        "id": "QQ-BWFT42OEe",
        "colab_type": "text"
      },
      "source": [
        "**Answer.**"
      ]
    },
    {
      "cell_type": "code",
      "metadata": {
        "id": "z8LQflup2OEf",
        "colab_type": "code",
        "colab": {},
        "outputId": "c6188116-b1cf-4a15-8d06-402f6af13b9c"
      },
      "source": [
        "df[\"day\"] = df.date.dt.weekday\n"
      ],
      "execution_count": null,
      "outputs": [
        {
          "output_type": "display_data",
          "data": {
            "image/png": "[encoded data removed]",
            "text/plain": [
              "<Figure size 432x288 with 1 Axes>"
            ]
          },
          "metadata": {
            "tags": [],
            "needs_background": "light"
          }
        }
      ]
    },
    {
      "cell_type": "code",
      "metadata": {
        "id": "7kJ4cHbm2OEi",
        "colab_type": "code",
        "colab": {},
        "outputId": "511fb119-9d77-405a-e7a2-7d8c457ae74e"
      },
      "source": [
        "count_classes = pd.value_counts(df.day, sort = True)\n",
        "count_classes"
      ],
      "execution_count": null,
      "outputs": [
        {
          "output_type": "execute_result",
          "data": {
            "text/plain": [
              "4    37886\n",
              "3    36254\n",
              "1    35651\n",
              "2    35188\n",
              "0    34719\n",
              "5    31784\n",
              "6    27040\n",
              "Name: day, dtype: int64"
            ]
          },
          "metadata": {
            "tags": []
          },
          "execution_count": 198
        }
      ]
    },
    {
      "cell_type": "code",
      "metadata": {
        "id": "v8843_xq2OEl",
        "colab_type": "code",
        "colab": {},
        "outputId": "60cb3e74-0c2f-4e92-aa56-89d7f88bb0e9"
      },
      "source": [
        "preserved_mapper = {0: 'Mon', 1: 'Tues', 2: 'Wed', 3: 'Thur', 4: 'Fri', 5: 'Sat', 6: 'Sun'}\n",
        "df['day_1'] =df.day.replace(preserved_mapper)\n",
        "df = df.sort_values('day')\n",
        "df.head()"
      ],
      "execution_count": null,
      "outputs": [
        {
          "output_type": "execute_result",
          "data": {
            "text/html": [
              "<div>\n",
              "<style scoped>\n",
              "    .dataframe tbody tr th:only-of-type {\n",
              "        vertical-align: middle;\n",
              "    }\n",
              "\n",
              "    .dataframe tbody tr th {\n",
              "        vertical-align: top;\n",
              "    }\n",
              "\n",
              "    .dataframe thead th {\n",
              "        text-align: right;\n",
              "    }\n",
              "</style>\n",
              "<table border=\"1\" class=\"dataframe\">\n",
              "  <thead>\n",
              "    <tr style=\"text-align: right;\">\n",
              "      <th></th>\n",
              "      <th>DATE</th>\n",
              "      <th>TIME</th>\n",
              "      <th>BOROUGH</th>\n",
              "      <th>ZIP CODE</th>\n",
              "      <th>LATITUDE</th>\n",
              "      <th>LONGITUDE</th>\n",
              "      <th>ON STREET NAME</th>\n",
              "      <th>NUMBER OF PEDESTRIANS INJURED</th>\n",
              "      <th>NUMBER OF PEDESTRIANS KILLED</th>\n",
              "      <th>NUMBER OF CYCLIST INJURED</th>\n",
              "      <th>...</th>\n",
              "      <th>VEHICLE TYPE CODE 1</th>\n",
              "      <th>VEHICLE TYPE CODE 2</th>\n",
              "      <th>VEHICLE TYPE CODE 3</th>\n",
              "      <th>VEHICLE TYPE CODE 4</th>\n",
              "      <th>VEHICLE TYPE CODE 5</th>\n",
              "      <th>date</th>\n",
              "      <th>time</th>\n",
              "      <th>HOUR</th>\n",
              "      <th>day</th>\n",
              "      <th>day_1</th>\n",
              "    </tr>\n",
              "  </thead>\n",
              "  <tbody>\n",
              "    <tr>\n",
              "      <th>180048</th>\n",
              "      <td>05/07/2018</td>\n",
              "      <td>17:30</td>\n",
              "      <td>MANHATTAN</td>\n",
              "      <td>10018.0</td>\n",
              "      <td>40.757732</td>\n",
              "      <td>-73.99686</td>\n",
              "      <td>10 AVENUE</td>\n",
              "      <td>0</td>\n",
              "      <td>0</td>\n",
              "      <td>0</td>\n",
              "      <td>...</td>\n",
              "      <td>Station Wagon/Sport Utility Vehicle</td>\n",
              "      <td>Box Truck</td>\n",
              "      <td>NaN</td>\n",
              "      <td>NaN</td>\n",
              "      <td>NaN</td>\n",
              "      <td>2018-05-07</td>\n",
              "      <td>2020-09-01 17:30:00</td>\n",
              "      <td>17</td>\n",
              "      <td>0</td>\n",
              "      <td>Mon</td>\n",
              "    </tr>\n",
              "    <tr>\n",
              "      <th>193140</th>\n",
              "      <td>05/21/2018</td>\n",
              "      <td>11:30</td>\n",
              "      <td>QUEENS</td>\n",
              "      <td>11375.0</td>\n",
              "      <td>40.715523</td>\n",
              "      <td>-73.84236</td>\n",
              "      <td>ASCAN AVENUE</td>\n",
              "      <td>0</td>\n",
              "      <td>0</td>\n",
              "      <td>0</td>\n",
              "      <td>...</td>\n",
              "      <td>Station Wagon/Sport Utility Vehicle</td>\n",
              "      <td>Station Wagon/Sport Utility Vehicle</td>\n",
              "      <td>Sedan</td>\n",
              "      <td>NaN</td>\n",
              "      <td>NaN</td>\n",
              "      <td>2018-05-21</td>\n",
              "      <td>2020-09-01 11:30:00</td>\n",
              "      <td>11</td>\n",
              "      <td>0</td>\n",
              "      <td>Mon</td>\n",
              "    </tr>\n",
              "    <tr>\n",
              "      <th>103078</th>\n",
              "      <td>02/18/2019</td>\n",
              "      <td>4:46</td>\n",
              "      <td>BROOKLYN</td>\n",
              "      <td>11237.0</td>\n",
              "      <td>40.712963</td>\n",
              "      <td>-73.92761</td>\n",
              "      <td>MEADOW STREET</td>\n",
              "      <td>0</td>\n",
              "      <td>0</td>\n",
              "      <td>0</td>\n",
              "      <td>...</td>\n",
              "      <td>Sedan</td>\n",
              "      <td>NaN</td>\n",
              "      <td>NaN</td>\n",
              "      <td>NaN</td>\n",
              "      <td>NaN</td>\n",
              "      <td>2019-02-18</td>\n",
              "      <td>2020-09-01 04:46:00</td>\n",
              "      <td>4</td>\n",
              "      <td>0</td>\n",
              "      <td>Mon</td>\n",
              "    </tr>\n",
              "    <tr>\n",
              "      <th>29044</th>\n",
              "      <td>07/08/2019</td>\n",
              "      <td>8:30</td>\n",
              "      <td>MANHATTAN</td>\n",
              "      <td>10028.0</td>\n",
              "      <td>40.779540</td>\n",
              "      <td>-73.95978</td>\n",
              "      <td>EAST 84 STREET</td>\n",
              "      <td>0</td>\n",
              "      <td>0</td>\n",
              "      <td>0</td>\n",
              "      <td>...</td>\n",
              "      <td>Taxi</td>\n",
              "      <td>Taxi</td>\n",
              "      <td>NaN</td>\n",
              "      <td>NaN</td>\n",
              "      <td>NaN</td>\n",
              "      <td>2019-07-08</td>\n",
              "      <td>2020-09-01 08:30:00</td>\n",
              "      <td>8</td>\n",
              "      <td>0</td>\n",
              "      <td>Mon</td>\n",
              "    </tr>\n",
              "    <tr>\n",
              "      <th>29045</th>\n",
              "      <td>06/10/2019</td>\n",
              "      <td>0:00</td>\n",
              "      <td>BRONX</td>\n",
              "      <td>10455.0</td>\n",
              "      <td>40.812283</td>\n",
              "      <td>-73.90447</td>\n",
              "      <td>EAST 149 STREET</td>\n",
              "      <td>0</td>\n",
              "      <td>0</td>\n",
              "      <td>0</td>\n",
              "      <td>...</td>\n",
              "      <td>Sedan</td>\n",
              "      <td>Station Wagon/Sport Utility Vehicle</td>\n",
              "      <td>NaN</td>\n",
              "      <td>NaN</td>\n",
              "      <td>NaN</td>\n",
              "      <td>2019-06-10</td>\n",
              "      <td>2020-09-01 00:00:00</td>\n",
              "      <td>0</td>\n",
              "      <td>0</td>\n",
              "      <td>Mon</td>\n",
              "    </tr>\n",
              "  </tbody>\n",
              "</table>\n",
              "<p>5 rows × 29 columns</p>\n",
              "</div>"
            ],
            "text/plain": [
              "              DATE   TIME    BOROUGH  ZIP CODE   LATITUDE  LONGITUDE  \\\n",
              "180048  05/07/2018  17:30  MANHATTAN   10018.0  40.757732  -73.99686   \n",
              "193140  05/21/2018  11:30     QUEENS   11375.0  40.715523  -73.84236   \n",
              "103078  02/18/2019   4:46   BROOKLYN   11237.0  40.712963  -73.92761   \n",
              "29044   07/08/2019   8:30  MANHATTAN   10028.0  40.779540  -73.95978   \n",
              "29045   06/10/2019   0:00      BRONX   10455.0  40.812283  -73.90447   \n",
              "\n",
              "                          ON STREET NAME  NUMBER OF PEDESTRIANS INJURED  \\\n",
              "180048  10 AVENUE                                                     0   \n",
              "193140  ASCAN AVENUE                                                  0   \n",
              "103078  MEADOW STREET                                                 0   \n",
              "29044   EAST 84 STREET                                                0   \n",
              "29045   EAST 149 STREET                                               0   \n",
              "\n",
              "        NUMBER OF PEDESTRIANS KILLED  NUMBER OF CYCLIST INJURED  ...   \\\n",
              "180048                             0                          0  ...    \n",
              "193140                             0                          0  ...    \n",
              "103078                             0                          0  ...    \n",
              "29044                              0                          0  ...    \n",
              "29045                              0                          0  ...    \n",
              "\n",
              "                        VEHICLE TYPE CODE 1  \\\n",
              "180048  Station Wagon/Sport Utility Vehicle   \n",
              "193140  Station Wagon/Sport Utility Vehicle   \n",
              "103078                                Sedan   \n",
              "29044                                  Taxi   \n",
              "29045                                 Sedan   \n",
              "\n",
              "                        VEHICLE TYPE CODE 2  VEHICLE TYPE CODE 3  \\\n",
              "180048                            Box Truck                  NaN   \n",
              "193140  Station Wagon/Sport Utility Vehicle                Sedan   \n",
              "103078                                  NaN                  NaN   \n",
              "29044                                  Taxi                  NaN   \n",
              "29045   Station Wagon/Sport Utility Vehicle                  NaN   \n",
              "\n",
              "       VEHICLE TYPE CODE 4 VEHICLE TYPE CODE 5       date                time  \\\n",
              "180048                 NaN                 NaN 2018-05-07 2020-09-01 17:30:00   \n",
              "193140                 NaN                 NaN 2018-05-21 2020-09-01 11:30:00   \n",
              "103078                 NaN                 NaN 2019-02-18 2020-09-01 04:46:00   \n",
              "29044                  NaN                 NaN 2019-07-08 2020-09-01 08:30:00   \n",
              "29045                  NaN                 NaN 2019-06-10 2020-09-01 00:00:00   \n",
              "\n",
              "       HOUR  day day_1  \n",
              "180048   17    0   Mon  \n",
              "193140   11    0   Mon  \n",
              "103078    4    0   Mon  \n",
              "29044     8    0   Mon  \n",
              "29045     0    0   Mon  \n",
              "\n",
              "[5 rows x 29 columns]"
            ]
          },
          "metadata": {
            "tags": []
          },
          "execution_count": 200
        }
      ]
    },
    {
      "cell_type": "code",
      "metadata": {
        "id": "Tecz2vYR2OEq",
        "colab_type": "code",
        "colab": {},
        "outputId": "bf4b4c01-1bdb-4127-fc6b-57b6387c22bc"
      },
      "source": [
        "sns.catplot(x = \"day_1\", data = df, kind = \"count\");"
      ],
      "execution_count": null,
      "outputs": [
        {
          "output_type": "display_data",
          "data": {
            "image/png": "[encoded data removed]",
            "text/plain": [
              "<Figure size 360x360 with 1 Axes>"
            ]
          },
          "metadata": {
            "tags": [],
            "needs_background": "light"
          }
        }
      ]
    },
    {
      "cell_type": "code",
      "metadata": {
        "id": "q-zH5J4v2OEt",
        "colab_type": "code",
        "colab": {},
        "outputId": "65fd99b5-840c-4af2-a4e5-11ace1f45d6d"
      },
      "source": [
        "groupedvalues = df.groupby('day_1').count().reset_index()\n",
        "g= sns.barplot(x = 'day_1', y = 'day', data = groupedvalues)\n",
        "for index, row in groupedvalues.iterrows():\n",
        "    g.text(row.name, row.day - 16, round(row.day, 2), color = 'black', ha = \"center\")"
      ],
      "execution_count": null,
      "outputs": [
        {
          "output_type": "display_data",
          "data": {
            "image/png": "[encoded data removed]",
            "text/plain": [
              "<Figure size 432x288 with 1 Axes>"
            ]
          },
          "metadata": {
            "tags": [],
            "needs_background": "light"
          }
        }
      ]
    },
    {
      "cell_type": "markdown",
      "metadata": {
        "id": "MQtLHoi62OEw",
        "colab_type": "text"
      },
      "source": [
        "<h3>Exercise 7 :</h3>\n",
        "<p>Plot a bar graph of the total number of accidents in each borough, as well as one of the accidents per square mile per borough. What can you conclude?</p>\n",
        "<p><strong>Hint:</strong> You may want to update some of the keys in the borough dictionary to match the names in the dataframe. </p>"
      ]
    },
    {
      "cell_type": "markdown",
      "metadata": {
        "id": "yw3o5JZK2OEw",
        "colab_type": "text"
      },
      "source": [
        "**Answer.**"
      ]
    },
    {
      "cell_type": "code",
      "metadata": {
        "id": "Wq221EBV2OEx",
        "colab_type": "code",
        "colab": {},
        "outputId": "e3258567-327f-4fd1-e809-4feaa4913f0a"
      },
      "source": [
        "sns.catplot(x = \"BOROUGH\", data = df, kind = \"count\");"
      ],
      "execution_count": null,
      "outputs": [
        {
          "output_type": "display_data",
          "data": {
            "image/png": "[encoded data removed]",
            "text/plain": [
              "<Figure size 360x360 with 1 Axes>"
            ]
          },
          "metadata": {
            "tags": [],
            "needs_background": "light"
          }
        }
      ]
    },
    {
      "cell_type": "code",
      "metadata": {
        "id": "KdzQcdnI2OE1",
        "colab_type": "code",
        "colab": {},
        "outputId": "7aad159c-4dd2-4da2-f653-2043158e83d9"
      },
      "source": [
        "pd.value_counts(df.BOROUGH, sort = True)"
      ],
      "execution_count": null,
      "outputs": [
        {
          "output_type": "execute_result",
          "data": {
            "text/plain": [
              "BROOKLYN         76253\n",
              "QUEENS           67120\n",
              "MANHATTAN        48749\n",
              "BRONX            37709\n",
              "STATEN ISLAND     8691\n",
              "Name: BOROUGH, dtype: int64"
            ]
          },
          "metadata": {
            "tags": []
          },
          "execution_count": 226
        }
      ]
    },
    {
      "cell_type": "code",
      "metadata": {
        "id": "_BH2XgKQ2OE4",
        "colab_type": "code",
        "colab": {}
      },
      "source": [
        "sns.catplot(x = \"day_1\", data = df, kind = \"count\");"
      ],
      "execution_count": null,
      "outputs": []
    },
    {
      "cell_type": "code",
      "metadata": {
        "id": "A5ah2b8_2OE7",
        "colab_type": "code",
        "colab": {},
        "outputId": "9f5060df-d910-4e7f-ae72-c3e642825a2c"
      },
      "source": [
        "borough"
      ],
      "execution_count": null,
      "outputs": [
        {
          "output_type": "execute_result",
          "data": {
            "text/plain": [
              "{'the bronx': {'name': 'the bronx', 'population': 1471160.0, 'area': 42.1},\n",
              " 'brooklyn': {'name': 'brooklyn', 'population': 2648771.0, 'area': 70.82},\n",
              " 'manhattan': {'name': 'manhattan', 'population': 1664727.0, 'area': 22.83},\n",
              " 'queens': {'name': 'queens', 'population': 2358582.0, 'area': 108.53},\n",
              " 'staten island': {'name': 'staten island',\n",
              "  'population': 479458.0,\n",
              "  'area': 58.37}}"
            ]
          },
          "metadata": {
            "tags": []
          },
          "execution_count": 227
        }
      ]
    },
    {
      "cell_type": "markdown",
      "metadata": {
        "id": "6kbgd7Et2OE-",
        "colab_type": "text"
      },
      "source": [
        "<h3>Exercise 8 :</h3>\n",
        "<p>Which hours have the most accidents for each borough? Plot a bar graph for each borough showing the number of accidents for each hour of the day.</p>\n",
        "<p><strong>Hint:</strong> You can use <code>sns.FacetGrid</code> to create a grid of plots with the hourly data of each borough. </p>"
      ]
    },
    {
      "cell_type": "markdown",
      "metadata": {
        "tags": [
          "ans_st"
        ],
        "id": "qDzOokqF2OE-",
        "colab_type": "text"
      },
      "source": [
        "**Answer.**"
      ]
    },
    {
      "cell_type": "markdown",
      "metadata": {
        "id": "vqOSzaeO2OE_",
        "colab_type": "text"
      },
      "source": [
        "-------"
      ]
    },
    {
      "cell_type": "markdown",
      "metadata": {
        "id": "Hrfseanl2OE_",
        "colab_type": "text"
      },
      "source": [
        "<p><strong>Is the number of accidents higher at different times in different boroughs? Should we concentrate at different times for each borough?</strong></p>"
      ]
    },
    {
      "cell_type": "markdown",
      "metadata": {
        "id": "oGu0-_kC2OFA",
        "colab_type": "text"
      },
      "source": [
        "<p>We can see that in all the boroughs the accident count is highest from approximately 2 - 6PM. But in Manhattan and the Bronx, you can see that there is not as much of a relative increase during these hours as in Brooklyn or Queens. Additionally, Staten Island has the lowest overall number of accidents.</p>"
      ]
    },
    {
      "cell_type": "markdown",
      "metadata": {
        "id": "ryHmnjVn2OFA",
        "colab_type": "text"
      },
      "source": [
        "<h3>Exercise 9 :</h3>\n",
        "<p>What factors cause the most accidents? Avoid double counting the contributing factors of a single accident. </p>\n",
        "<p><strong>Hint:</strong> One way of dealing with repetitions is to concatenate the corresponding columns while preserving their indexes, you can do that with the functions <code>pd.concat()</code> and  <code>reset_index()</code>. Then, use an appropiate <code>group_by</code> to count the number of repetitions of contributed factors per accident.   </p>"
      ]
    },
    {
      "cell_type": "markdown",
      "metadata": {
        "tags": [
          "ans_st"
        ],
        "id": "iphZwfH82OFB",
        "colab_type": "text"
      },
      "source": [
        "**Answer.**"
      ]
    },
    {
      "cell_type": "markdown",
      "metadata": {
        "id": "l_hkQVEc2OFB",
        "colab_type": "text"
      },
      "source": [
        "-------"
      ]
    },
    {
      "cell_type": "markdown",
      "metadata": {
        "id": "BsiSQuRW2OFC",
        "colab_type": "text"
      },
      "source": [
        "<h3>Exercise 10 :</h3>\n",
        "<p>Which vehicle types are most involved in accidents per borough? Avoid double counting the type of vehicles present in a single accident. </p>\n",
        "<p><strong>Hint:</strong> You can apply a similar approach to the one used in the previous question.</p>"
      ]
    },
    {
      "cell_type": "markdown",
      "metadata": {
        "tags": [
          "ans_st"
        ],
        "id": "TicAoEZQ2OFC",
        "colab_type": "text"
      },
      "source": [
        "**Answer.**"
      ]
    },
    {
      "cell_type": "markdown",
      "metadata": {
        "id": "ghM9tpTl2OFD",
        "colab_type": "text"
      },
      "source": [
        "-------"
      ]
    },
    {
      "cell_type": "markdown",
      "metadata": {
        "id": "n6boJri02OFE",
        "colab_type": "text"
      },
      "source": [
        "<h3>Exercise 11 :</h3>\n",
        "<p>In a 2018 <a href=\"https://www.nytimes.com/2019/01/01/nyregion/traffic-deaths-decrease-nyc.html\">interview</a> with The New York Times, New York's mayor de Blasio stated that <em>'Vision Zero is clearly working'</em>. That year, the number of deaths in traffic accidents in NYC dropped to a historical 202. Yet, as reported by <a href=\"https://www.amny.com/news/vision-zero-de-blasio-1-30707464/\">am New York Metro</a>, the number of fatalities has increased by 30% in the first quarter of 2019 compared to the previous year and the number of pedestrians and cyclist injured has not seen any improvement.</p>\n",
        "<p>How would you use the provided data to understand what went wrong in the first quarter of 2019?</p>\n",
        "<blockquote>\n",
        "<ul>\n",
        "<li>\n",
        "<p>[ ] Consider the accidents of the first quarter of 2019. Then, check for the most common causes of accidents where pedestrians and cyclists were involved. Give a recommendation based solely on this information. </p>\n",
        "</li>\n",
        "<li>\n",
        "<p>[ ] Create a pair of heatmaps of the accidents involving injured/killed pedestrians and cyclists in the first quarter of 2018 and 2019. Compare these two to see if there is any change in the concentration of accidents. In critical areas, study the type of factors involved in the accidents. Give a recommendation to visit these areas to study the problem further.    </p>\n",
        "</li>\n",
        "<li>\n",
        "<p>[ ] The provided data is insufficient to improve our understanding of the situation.</p>\n",
        "</li>\n",
        "<li>\n",
        "<p>[ ] None of the above. I would do the following: <em>here your recommended answer</em>.</p>\n",
        "</li>\n",
        "</ul>\n",
        "</blockquote>"
      ]
    },
    {
      "cell_type": "markdown",
      "metadata": {
        "tags": [
          "ans_st"
        ],
        "id": "XaQmuuq42OFE",
        "colab_type": "text"
      },
      "source": [
        "**Answer.**"
      ]
    },
    {
      "cell_type": "markdown",
      "metadata": {
        "id": "l78-e3DE2OFF",
        "colab_type": "text"
      },
      "source": [
        "-------"
      ]
    },
    {
      "cell_type": "markdown",
      "metadata": {
        "id": "UjtnvHFn2OFG",
        "colab_type": "text"
      },
      "source": [
        "<h3>Exercise 12 :</h3>\n",
        "<p>Calculate the number of deaths caused by each type of vehicle. Plot a bar chart for the top 5 vehicles. Which vehicles are most often involved in deaths, and by how much more than the others?</p>\n",
        "<p><strong>For example,</strong> if two people died at an accident where 5 vehicles were involved: 4 are PASSENGER VEHICLE and 1 is a SPORT UTILITY/STATION WAGON. Then, we would add two deaths to each PASSENGER VEHICLE and SPORT UTILITY/STATION WAGON types.</p>\n",
        "<p><strong>Hint:</strong> You may want to create a new column with the total number of kills in the accident. For that you may find the function <code>.to_numpy()</code> useful. Then, proceed as the previous excercises to avoid double-counting the type of vehicles. </p>"
      ]
    },
    {
      "cell_type": "markdown",
      "metadata": {
        "tags": [
          "ans_st"
        ],
        "id": "dzid_jpj2OFH",
        "colab_type": "text"
      },
      "source": [
        "**Answer.**"
      ]
    },
    {
      "cell_type": "markdown",
      "metadata": {
        "id": "roYHpY_82OFH",
        "colab_type": "text"
      },
      "source": [
        "-------"
      ]
    }
  ]
}