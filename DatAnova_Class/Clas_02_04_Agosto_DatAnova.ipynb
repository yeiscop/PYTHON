{
  "nbformat": 4,
  "nbformat_minor": 0,
  "metadata": {
    "colab": {
      "name": "Clas_02_04_Agosto_DatAnova.ipynb",
      "provenance": [],
      "collapsed_sections": [],
      "mount_file_id": "1G2ZP-7fhl6ZfKcecHaQ3b1FarsCCZlIJ",
      "authorship_tag": "ABX9TyOWx8DKPaAS3DjScT6X9mUK",
      "include_colab_link": true
    },
    "kernelspec": {
      "name": "python3",
      "display_name": "Python 3"
    }
  },
  "cells": [
    {
      "cell_type": "markdown",
      "metadata": {
        "id": "view-in-github",
        "colab_type": "text"
      },
      "source": [
        "<a href=\"https://colab.research.google.com/github/yeiscop/PYTHON/blob/master/Clas_02_04_Agosto_DatAnova.ipynb\" target=\"_parent\"><img src=\"https://colab.research.google.com/assets/colab-badge.svg\" alt=\"Open In Colab\"/></a>"
      ]
    },
    {
      "cell_type": "markdown",
      "metadata": {
        "id": "h1aGVILQrgqW",
        "colab_type": "text"
      },
      "source": [
        "#      Clase 2: 06 de agosto <br/> Fundamentos de Estadística\n",
        "![texto alternativo](https://drive.google.com/uc?export=view&id=1dzCjzcQcqMKzlnKzLBlnthqHvvp2wVYL)\n",
        "\n",
        "## Requisitos \n",
        "- Condición sin ecuánime: Tener cuenta de Gmail <br/>\n",
        "- Los Scripts van estar alojados en la carpeta de formación del TEAMS y publicados en el canal <br/>\n",
        "- Repositorio: https://github.com/yeiscop/PYTHON/blob/master/Copia_de_Clas_30_Julio_DatAnova.ipynb\n",
        "\n",
        "\n",
        "# Puede verse antes de clase\n",
        "## Tutorial inicio GOOGLE COLAB\n",
        "- https://www.youtube.com/watch?v=inN8seMm7UI\n",
        "\n",
        "## Qué es GOOGLE COLAB \n",
        "- https://research.google.com/colaboratory/faq.html\n",
        "\n",
        "## Datos a trabajar\n",
        "- https://raw.githubusercontent.com/jbrownlee/Datasets/master/iris.csv\n",
        "- https://raw.githubusercontent.com/jbrownlee/Datasets/master/iris.names\n",
        "- https://en.wikipedia.org/wiki/Iris_flower_data_set\n",
        "- https://scikit-learn.org/stable/auto_examples/datasets/plot_iris_dataset.html\n",
        "\n",
        "#Temas: Estadística Descriptiva\n",
        "```\n",
        "- Noticias de la semana                             : yltabord            5 min\n",
        "- Tipos de Datos:                                   : yltabord dmrendon  20 min\n",
        "- Análisis Descriptivo                             : yltabord dmrendon  90 min\n",
        "- Quiz con SCORE o tarea                            : e tal               5 min\n",
        "```"
      ]
    },
    {
      "cell_type": "markdown",
      "metadata": {
        "id": "qOr5hd5JMCkl",
        "colab_type": "text"
      },
      "source": [
        "## Tipos de datos\n",
        "* Númericas (discretas y continuas)\n",
        "* Categóricas (Nominales Ordinales)\n",
        "* Corte transversal \n",
        "* Longitudinales\n",
        "* Series de tiempo\n",
        "* No estructurado (texto, imágenes, video, audio)"
      ]
    },
    {
      "cell_type": "markdown",
      "metadata": {
        "id": "E9qxXXUbOxUa",
        "colab_type": "text"
      },
      "source": [
        "### Númericas - Categóricas"
      ]
    },
    {
      "cell_type": "code",
      "metadata": {
        "id": "7IqFJrmjO9tN",
        "colab_type": "code",
        "colab": {
          "base_uri": "https://localhost:8080/",
          "height": 1000
        },
        "outputId": "6d968a69-2c75-4a35-d5c8-bac05bd23925"
      },
      "source": [
        "from sklearn.datasets import load_iris\n",
        "iris = load_iris()\n",
        "iris"
      ],
      "execution_count": null,
      "outputs": [
        {
          "output_type": "display_data",
          "data": {
            "text/html": [
              "<script src='https://www.gstatic.com/external_hosted/mathjax/latest/MathJax.js?config=default'></script>"
            ],
            "text/plain": [
              "<IPython.core.display.HTML object>"
            ]
          },
          "metadata": {
            "tags": []
          }
        },
        {
          "output_type": "display_data",
          "data": {
            "text/html": [
              "<script src='https://www.gstatic.com/external_hosted/mathjax/latest/MathJax.js?config=default'></script>"
            ],
            "text/plain": [
              "<IPython.core.display.HTML object>"
            ]
          },
          "metadata": {
            "tags": []
          }
        },
        {
          "output_type": "execute_result",
          "data": {
            "text/plain": [
              "{'DESCR': '.. _iris_dataset:\\n\\nIris plants dataset\\n--------------------\\n\\n**Data Set Characteristics:**\\n\\n    :Number of Instances: 150 (50 in each of three classes)\\n    :Number of Attributes: 4 numeric, predictive attributes and the class\\n    :Attribute Information:\\n        - sepal length in cm\\n        - sepal width in cm\\n        - petal length in cm\\n        - petal width in cm\\n        - class:\\n                - Iris-Setosa\\n                - Iris-Versicolour\\n                - Iris-Virginica\\n                \\n    :Summary Statistics:\\n\\n    ============== ==== ==== ======= ===== ====================\\n                    Min  Max   Mean    SD   Class Correlation\\n    ============== ==== ==== ======= ===== ====================\\n    sepal length:   4.3  7.9   5.84   0.83    0.7826\\n    sepal width:    2.0  4.4   3.05   0.43   -0.4194\\n    petal length:   1.0  6.9   3.76   1.76    0.9490  (high!)\\n    petal width:    0.1  2.5   1.20   0.76    0.9565  (high!)\\n    ============== ==== ==== ======= ===== ====================\\n\\n    :Missing Attribute Values: None\\n    :Class Distribution: 33.3% for each of 3 classes.\\n    :Creator: R.A. Fisher\\n    :Donor: Michael Marshall (MARSHALL%PLU@io.arc.nasa.gov)\\n    :Date: July, 1988\\n\\nThe famous Iris database, first used by Sir R.A. Fisher. The dataset is taken\\nfrom Fisher\\'s paper. Note that it\\'s the same as in R, but not as in the UCI\\nMachine Learning Repository, which has two wrong data points.\\n\\nThis is perhaps the best known database to be found in the\\npattern recognition literature.  Fisher\\'s paper is a classic in the field and\\nis referenced frequently to this day.  (See Duda & Hart, for example.)  The\\ndata set contains 3 classes of 50 instances each, where each class refers to a\\ntype of iris plant.  One class is linearly separable from the other 2; the\\nlatter are NOT linearly separable from each other.\\n\\n.. topic:: References\\n\\n   - Fisher, R.A. \"The use of multiple measurements in taxonomic problems\"\\n     Annual Eugenics, 7, Part II, 179-188 (1936); also in \"Contributions to\\n     Mathematical Statistics\" (John Wiley, NY, 1950).\\n   - Duda, R.O., & Hart, P.E. (1973) Pattern Classification and Scene Analysis.\\n     (Q327.D83) John Wiley & Sons.  ISBN 0-471-22361-1.  See page 218.\\n   - Dasarathy, B.V. (1980) \"Nosing Around the Neighborhood: A New System\\n     Structure and Classification Rule for Recognition in Partially Exposed\\n     Environments\".  IEEE Transactions on Pattern Analysis and Machine\\n     Intelligence, Vol. PAMI-2, No. 1, 67-71.\\n   - Gates, G.W. (1972) \"The Reduced Nearest Neighbor Rule\".  IEEE Transactions\\n     on Information Theory, May 1972, 431-433.\\n   - See also: 1988 MLC Proceedings, 54-64.  Cheeseman et al\"s AUTOCLASS II\\n     conceptual clustering system finds 3 classes in the data.\\n   - Many, many more ...',\n",
              " 'data': array([[5.1, 3.5, 1.4, 0.2],\n",
              "        [4.9, 3. , 1.4, 0.2],\n",
              "        [4.7, 3.2, 1.3, 0.2],\n",
              "        [4.6, 3.1, 1.5, 0.2],\n",
              "        [5. , 3.6, 1.4, 0.2],\n",
              "        [5.4, 3.9, 1.7, 0.4],\n",
              "        [4.6, 3.4, 1.4, 0.3],\n",
              "        [5. , 3.4, 1.5, 0.2],\n",
              "        [4.4, 2.9, 1.4, 0.2],\n",
              "        [4.9, 3.1, 1.5, 0.1],\n",
              "        [5.4, 3.7, 1.5, 0.2],\n",
              "        [4.8, 3.4, 1.6, 0.2],\n",
              "        [4.8, 3. , 1.4, 0.1],\n",
              "        [4.3, 3. , 1.1, 0.1],\n",
              "        [5.8, 4. , 1.2, 0.2],\n",
              "        [5.7, 4.4, 1.5, 0.4],\n",
              "        [5.4, 3.9, 1.3, 0.4],\n",
              "        [5.1, 3.5, 1.4, 0.3],\n",
              "        [5.7, 3.8, 1.7, 0.3],\n",
              "        [5.1, 3.8, 1.5, 0.3],\n",
              "        [5.4, 3.4, 1.7, 0.2],\n",
              "        [5.1, 3.7, 1.5, 0.4],\n",
              "        [4.6, 3.6, 1. , 0.2],\n",
              "        [5.1, 3.3, 1.7, 0.5],\n",
              "        [4.8, 3.4, 1.9, 0.2],\n",
              "        [5. , 3. , 1.6, 0.2],\n",
              "        [5. , 3.4, 1.6, 0.4],\n",
              "        [5.2, 3.5, 1.5, 0.2],\n",
              "        [5.2, 3.4, 1.4, 0.2],\n",
              "        [4.7, 3.2, 1.6, 0.2],\n",
              "        [4.8, 3.1, 1.6, 0.2],\n",
              "        [5.4, 3.4, 1.5, 0.4],\n",
              "        [5.2, 4.1, 1.5, 0.1],\n",
              "        [5.5, 4.2, 1.4, 0.2],\n",
              "        [4.9, 3.1, 1.5, 0.2],\n",
              "        [5. , 3.2, 1.2, 0.2],\n",
              "        [5.5, 3.5, 1.3, 0.2],\n",
              "        [4.9, 3.6, 1.4, 0.1],\n",
              "        [4.4, 3. , 1.3, 0.2],\n",
              "        [5.1, 3.4, 1.5, 0.2],\n",
              "        [5. , 3.5, 1.3, 0.3],\n",
              "        [4.5, 2.3, 1.3, 0.3],\n",
              "        [4.4, 3.2, 1.3, 0.2],\n",
              "        [5. , 3.5, 1.6, 0.6],\n",
              "        [5.1, 3.8, 1.9, 0.4],\n",
              "        [4.8, 3. , 1.4, 0.3],\n",
              "        [5.1, 3.8, 1.6, 0.2],\n",
              "        [4.6, 3.2, 1.4, 0.2],\n",
              "        [5.3, 3.7, 1.5, 0.2],\n",
              "        [5. , 3.3, 1.4, 0.2],\n",
              "        [7. , 3.2, 4.7, 1.4],\n",
              "        [6.4, 3.2, 4.5, 1.5],\n",
              "        [6.9, 3.1, 4.9, 1.5],\n",
              "        [5.5, 2.3, 4. , 1.3],\n",
              "        [6.5, 2.8, 4.6, 1.5],\n",
              "        [5.7, 2.8, 4.5, 1.3],\n",
              "        [6.3, 3.3, 4.7, 1.6],\n",
              "        [4.9, 2.4, 3.3, 1. ],\n",
              "        [6.6, 2.9, 4.6, 1.3],\n",
              "        [5.2, 2.7, 3.9, 1.4],\n",
              "        [5. , 2. , 3.5, 1. ],\n",
              "        [5.9, 3. , 4.2, 1.5],\n",
              "        [6. , 2.2, 4. , 1. ],\n",
              "        [6.1, 2.9, 4.7, 1.4],\n",
              "        [5.6, 2.9, 3.6, 1.3],\n",
              "        [6.7, 3.1, 4.4, 1.4],\n",
              "        [5.6, 3. , 4.5, 1.5],\n",
              "        [5.8, 2.7, 4.1, 1. ],\n",
              "        [6.2, 2.2, 4.5, 1.5],\n",
              "        [5.6, 2.5, 3.9, 1.1],\n",
              "        [5.9, 3.2, 4.8, 1.8],\n",
              "        [6.1, 2.8, 4. , 1.3],\n",
              "        [6.3, 2.5, 4.9, 1.5],\n",
              "        [6.1, 2.8, 4.7, 1.2],\n",
              "        [6.4, 2.9, 4.3, 1.3],\n",
              "        [6.6, 3. , 4.4, 1.4],\n",
              "        [6.8, 2.8, 4.8, 1.4],\n",
              "        [6.7, 3. , 5. , 1.7],\n",
              "        [6. , 2.9, 4.5, 1.5],\n",
              "        [5.7, 2.6, 3.5, 1. ],\n",
              "        [5.5, 2.4, 3.8, 1.1],\n",
              "        [5.5, 2.4, 3.7, 1. ],\n",
              "        [5.8, 2.7, 3.9, 1.2],\n",
              "        [6. , 2.7, 5.1, 1.6],\n",
              "        [5.4, 3. , 4.5, 1.5],\n",
              "        [6. , 3.4, 4.5, 1.6],\n",
              "        [6.7, 3.1, 4.7, 1.5],\n",
              "        [6.3, 2.3, 4.4, 1.3],\n",
              "        [5.6, 3. , 4.1, 1.3],\n",
              "        [5.5, 2.5, 4. , 1.3],\n",
              "        [5.5, 2.6, 4.4, 1.2],\n",
              "        [6.1, 3. , 4.6, 1.4],\n",
              "        [5.8, 2.6, 4. , 1.2],\n",
              "        [5. , 2.3, 3.3, 1. ],\n",
              "        [5.6, 2.7, 4.2, 1.3],\n",
              "        [5.7, 3. , 4.2, 1.2],\n",
              "        [5.7, 2.9, 4.2, 1.3],\n",
              "        [6.2, 2.9, 4.3, 1.3],\n",
              "        [5.1, 2.5, 3. , 1.1],\n",
              "        [5.7, 2.8, 4.1, 1.3],\n",
              "        [6.3, 3.3, 6. , 2.5],\n",
              "        [5.8, 2.7, 5.1, 1.9],\n",
              "        [7.1, 3. , 5.9, 2.1],\n",
              "        [6.3, 2.9, 5.6, 1.8],\n",
              "        [6.5, 3. , 5.8, 2.2],\n",
              "        [7.6, 3. , 6.6, 2.1],\n",
              "        [4.9, 2.5, 4.5, 1.7],\n",
              "        [7.3, 2.9, 6.3, 1.8],\n",
              "        [6.7, 2.5, 5.8, 1.8],\n",
              "        [7.2, 3.6, 6.1, 2.5],\n",
              "        [6.5, 3.2, 5.1, 2. ],\n",
              "        [6.4, 2.7, 5.3, 1.9],\n",
              "        [6.8, 3. , 5.5, 2.1],\n",
              "        [5.7, 2.5, 5. , 2. ],\n",
              "        [5.8, 2.8, 5.1, 2.4],\n",
              "        [6.4, 3.2, 5.3, 2.3],\n",
              "        [6.5, 3. , 5.5, 1.8],\n",
              "        [7.7, 3.8, 6.7, 2.2],\n",
              "        [7.7, 2.6, 6.9, 2.3],\n",
              "        [6. , 2.2, 5. , 1.5],\n",
              "        [6.9, 3.2, 5.7, 2.3],\n",
              "        [5.6, 2.8, 4.9, 2. ],\n",
              "        [7.7, 2.8, 6.7, 2. ],\n",
              "        [6.3, 2.7, 4.9, 1.8],\n",
              "        [6.7, 3.3, 5.7, 2.1],\n",
              "        [7.2, 3.2, 6. , 1.8],\n",
              "        [6.2, 2.8, 4.8, 1.8],\n",
              "        [6.1, 3. , 4.9, 1.8],\n",
              "        [6.4, 2.8, 5.6, 2.1],\n",
              "        [7.2, 3. , 5.8, 1.6],\n",
              "        [7.4, 2.8, 6.1, 1.9],\n",
              "        [7.9, 3.8, 6.4, 2. ],\n",
              "        [6.4, 2.8, 5.6, 2.2],\n",
              "        [6.3, 2.8, 5.1, 1.5],\n",
              "        [6.1, 2.6, 5.6, 1.4],\n",
              "        [7.7, 3. , 6.1, 2.3],\n",
              "        [6.3, 3.4, 5.6, 2.4],\n",
              "        [6.4, 3.1, 5.5, 1.8],\n",
              "        [6. , 3. , 4.8, 1.8],\n",
              "        [6.9, 3.1, 5.4, 2.1],\n",
              "        [6.7, 3.1, 5.6, 2.4],\n",
              "        [6.9, 3.1, 5.1, 2.3],\n",
              "        [5.8, 2.7, 5.1, 1.9],\n",
              "        [6.8, 3.2, 5.9, 2.3],\n",
              "        [6.7, 3.3, 5.7, 2.5],\n",
              "        [6.7, 3. , 5.2, 2.3],\n",
              "        [6.3, 2.5, 5. , 1.9],\n",
              "        [6.5, 3. , 5.2, 2. ],\n",
              "        [6.2, 3.4, 5.4, 2.3],\n",
              "        [5.9, 3. , 5.1, 1.8]]),\n",
              " 'feature_names': ['sepal length (cm)',\n",
              "  'sepal width (cm)',\n",
              "  'petal length (cm)',\n",
              "  'petal width (cm)'],\n",
              " 'filename': '/usr/local/lib/python3.6/dist-packages/sklearn/datasets/data/iris.csv',\n",
              " 'target': array([0, 0, 0, 0, 0, 0, 0, 0, 0, 0, 0, 0, 0, 0, 0, 0, 0, 0, 0, 0, 0, 0,\n",
              "        0, 0, 0, 0, 0, 0, 0, 0, 0, 0, 0, 0, 0, 0, 0, 0, 0, 0, 0, 0, 0, 0,\n",
              "        0, 0, 0, 0, 0, 0, 1, 1, 1, 1, 1, 1, 1, 1, 1, 1, 1, 1, 1, 1, 1, 1,\n",
              "        1, 1, 1, 1, 1, 1, 1, 1, 1, 1, 1, 1, 1, 1, 1, 1, 1, 1, 1, 1, 1, 1,\n",
              "        1, 1, 1, 1, 1, 1, 1, 1, 1, 1, 1, 1, 2, 2, 2, 2, 2, 2, 2, 2, 2, 2,\n",
              "        2, 2, 2, 2, 2, 2, 2, 2, 2, 2, 2, 2, 2, 2, 2, 2, 2, 2, 2, 2, 2, 2,\n",
              "        2, 2, 2, 2, 2, 2, 2, 2, 2, 2, 2, 2, 2, 2, 2, 2, 2, 2]),\n",
              " 'target_names': array(['setosa', 'versicolor', 'virginica'], dtype='<U10')}"
            ]
          },
          "metadata": {
            "tags": []
          },
          "execution_count": 12
        }
      ]
    },
    {
      "cell_type": "code",
      "metadata": {
        "id": "BqCindiURz70",
        "colab_type": "code",
        "colab": {
          "base_uri": "https://localhost:8080/",
          "height": 33
        },
        "outputId": "c5e0fc6f-a839-4f64-e401-12ecd844ab1a"
      },
      "source": [
        "type(iris)"
      ],
      "execution_count": null,
      "outputs": [
        {
          "output_type": "display_data",
          "data": {
            "text/html": [
              "<script src='https://www.gstatic.com/external_hosted/mathjax/latest/MathJax.js?config=default'></script>"
            ],
            "text/plain": [
              "<IPython.core.display.HTML object>"
            ]
          },
          "metadata": {
            "tags": []
          }
        },
        {
          "output_type": "display_data",
          "data": {
            "text/html": [
              "<script src='https://www.gstatic.com/external_hosted/mathjax/latest/MathJax.js?config=default'></script>"
            ],
            "text/plain": [
              "<IPython.core.display.HTML object>"
            ]
          },
          "metadata": {
            "tags": []
          }
        },
        {
          "output_type": "execute_result",
          "data": {
            "text/plain": [
              "sklearn.utils.Bunch"
            ]
          },
          "metadata": {
            "tags": []
          },
          "execution_count": 15
        }
      ]
    },
    {
      "cell_type": "markdown",
      "metadata": {
        "id": "u0CVd_PFToMk",
        "colab_type": "text"
      },
      "source": [
        "![Petalo - Sepalo](https://drive.google.com/uc?export=view&id=1GKh6nxuVIgP0Mnq68iNiKtIgy2S-N340)\n",
        "\n",
        "![IRIS](https://drive.google.com/uc?export=view&id=1H8yh3lP0Hx4yfx2LdI515uvoGw4EcrDP)"
      ]
    },
    {
      "cell_type": "code",
      "metadata": {
        "id": "KfHrPCX5qo8r",
        "colab_type": "code",
        "colab": {
          "base_uri": "https://localhost:8080/",
          "height": 371
        },
        "outputId": "18241e93-e25a-487d-f916-db69e98735fb"
      },
      "source": [
        "# Medidas desciptivas\n",
        "\n",
        "import matplotlib.pyplot as plt\n",
        "from sklearn import datasets\n",
        "\n",
        "# import some data to play with\n",
        "iris = datasets.load_iris()\n",
        "X = iris.data[:, :2]  # we only take the first two features.\n",
        "y = iris.target\n",
        "\n",
        "x_min, x_max = X[:, 0].min() - .5, X[:, 0].max() + .5\n",
        "y_min, y_max = X[:, 1].min() - .5, X[:, 1].max() + .5\n",
        "\n",
        "plt.figure(2, figsize=(8, 6))\n",
        "plt.clf()\n",
        "\n",
        "# Plot the training points\n",
        "plt.scatter(X[:, 0], X[:, 1], c=y, cmap=plt.cm.Set1,\n",
        "            edgecolor='k')\n",
        "plt.xlabel('Sepal length')\n",
        "plt.ylabel('Sepal width')\n",
        "\n",
        "plt.xlim(x_min, x_max)\n",
        "plt.ylim(y_min, y_max)\n",
        "plt.xticks(())\n",
        "plt.yticks(())\n",
        "\n",
        "\n",
        "plt.show()"
      ],
      "execution_count": 84,
      "outputs": [
        {
          "output_type": "display_data",
          "data": {
            "text/html": [
              "<script src='https://www.gstatic.com/external_hosted/mathjax/latest/MathJax.js?config=default'></script>"
            ],
            "text/plain": [
              "<IPython.core.display.HTML object>"
            ]
          },
          "metadata": {
            "tags": []
          }
        },
        {
          "output_type": "display_data",
          "data": {
            "text/html": [
              "<script src='https://www.gstatic.com/external_hosted/mathjax/latest/MathJax.js?config=default'></script>"
            ],
            "text/plain": [
              "<IPython.core.display.HTML object>"
            ]
          },
          "metadata": {
            "tags": []
          }
        },
        {
          "output_type": "display_data",
          "data": {
            "image/png": "[encoded data removed]",
            "text/plain": [
              "<Figure size 576x432 with 1 Axes>"
            ]
          },
          "metadata": {
            "tags": []
          }
        }
      ]
    },
    {
      "cell_type": "markdown",
      "metadata": {
        "id": "sQfqe9gg5-K_",
        "colab_type": "text"
      },
      "source": [
        "### Medidas de centralidad y dispersión"
      ]
    },
    {
      "cell_type": "code",
      "metadata": {
        "id": "XpHAMPKyr2ZL",
        "colab_type": "code",
        "colab": {
          "base_uri": "https://localhost:8080/",
          "height": 36
        },
        "outputId": "bde41fd4-003f-4368-af03-98e6ad4f2d2c"
      },
      "source": [
        "X[:, 0].min(), X[:, 0].max(), X[:, 0].mean(),  X[:, 0].std(), X[:, 0].var(), X[:, 0].std()/X[:, 0].mean() \n",
        "# grafica de densidad\n",
        "#boxplot"
      ],
      "execution_count": 85,
      "outputs": [
        {
          "output_type": "display_data",
          "data": {
            "text/html": [
              "<script src='https://www.gstatic.com/external_hosted/mathjax/latest/MathJax.js?config=default'></script>"
            ],
            "text/plain": [
              "<IPython.core.display.HTML object>"
            ]
          },
          "metadata": {
            "tags": []
          }
        },
        {
          "output_type": "display_data",
          "data": {
            "text/html": [
              "<script src='https://www.gstatic.com/external_hosted/mathjax/latest/MathJax.js?config=default'></script>"
            ],
            "text/plain": [
              "<IPython.core.display.HTML object>"
            ]
          },
          "metadata": {
            "tags": []
          }
        },
        {
          "output_type": "execute_result",
          "data": {
            "image/png": "[encoded data removed]",
            "text/latex": "$$\\left ( 4.3, \\quad 7.9, \\quad 5.843333333333334, \\quad 0.8253012917851409, \\quad 0.6811222222222223, \\quad 0.14123809899346393\\right )$$",
            "text/plain": [
              "(4.3, 7.9, 5.843333333333334, 0.8253012917851409, 0.6811222222222223, 0.141238\n",
              "09899346393)"
            ]
          },
          "metadata": {
            "tags": []
          },
          "execution_count": 85
        }
      ]
    },
    {
      "cell_type": "markdown",
      "metadata": {
        "id": "rQLVQESO6D5A",
        "colab_type": "text"
      },
      "source": [
        "### Medidas de centralidad y dispersión con numpy"
      ]
    },
    {
      "cell_type": "code",
      "metadata": {
        "id": "bOEd_QS85GC8",
        "colab_type": "code",
        "colab": {
          "base_uri": "https://localhost:8080/",
          "height": 36
        },
        "outputId": "d3f6b2a7-4357-4c2e-dc05-bc58c10c39a2"
      },
      "source": [
        "# Medidas de centralidad y dispersión con numpy\n",
        "import numpy as np\n",
        "np.min(X[:, 0]), np.max(X[:, 0]), np.mean(X[:, 0]), np.std(X[:, 0]), np.var(X[:, 0]), np.std(X[:, 0])/np.mean(X[:, 0]) "
      ],
      "execution_count": 86,
      "outputs": [
        {
          "output_type": "display_data",
          "data": {
            "text/html": [
              "<script src='https://www.gstatic.com/external_hosted/mathjax/latest/MathJax.js?config=default'></script>"
            ],
            "text/plain": [
              "<IPython.core.display.HTML object>"
            ]
          },
          "metadata": {
            "tags": []
          }
        },
        {
          "output_type": "display_data",
          "data": {
            "text/html": [
              "<script src='https://www.gstatic.com/external_hosted/mathjax/latest/MathJax.js?config=default'></script>"
            ],
            "text/plain": [
              "<IPython.core.display.HTML object>"
            ]
          },
          "metadata": {
            "tags": []
          }
        },
        {
          "output_type": "execute_result",
          "data": {
            "image/png": "[encoded data removed]",
            "text/latex": "$$\\left ( 4.3, \\quad 7.9, \\quad 5.843333333333334, \\quad 0.8253012917851409, \\quad 0.6811222222222223, \\quad 0.14123809899346393\\right )$$",
            "text/plain": [
              "(4.3, 7.9, 5.843333333333334, 0.8253012917851409, 0.6811222222222223, 0.141238\n",
              "09899346393)"
            ]
          },
          "metadata": {
            "tags": []
          },
          "execution_count": 86
        }
      ]
    },
    {
      "cell_type": "code",
      "metadata": {
        "id": "IoFnPKlx71hU",
        "colab_type": "code",
        "colab": {
          "base_uri": "https://localhost:8080/",
          "height": 36
        },
        "outputId": "778f7c56-b174-473c-bdbb-9b9e07525c6e"
      },
      "source": [
        "np.median(X[:, 0])"
      ],
      "execution_count": 87,
      "outputs": [
        {
          "output_type": "display_data",
          "data": {
            "text/html": [
              "<script src='https://www.gstatic.com/external_hosted/mathjax/latest/MathJax.js?config=default'></script>"
            ],
            "text/plain": [
              "<IPython.core.display.HTML object>"
            ]
          },
          "metadata": {
            "tags": []
          }
        },
        {
          "output_type": "display_data",
          "data": {
            "text/html": [
              "<script src='https://www.gstatic.com/external_hosted/mathjax/latest/MathJax.js?config=default'></script>"
            ],
            "text/plain": [
              "<IPython.core.display.HTML object>"
            ]
          },
          "metadata": {
            "tags": []
          }
        },
        {
          "output_type": "execute_result",
          "data": {
            "image/png": "[encoded data removed]",
            "text/latex": "$$5.8$$",
            "text/plain": [
              "5.8"
            ]
          },
          "metadata": {
            "tags": []
          },
          "execution_count": 87
        }
      ]
    },
    {
      "cell_type": "markdown",
      "metadata": {
        "id": "K_kJudzq8jXY",
        "colab_type": "text"
      },
      "source": [
        "### Density Plot"
      ]
    },
    {
      "cell_type": "code",
      "metadata": {
        "id": "BtTS4Qy1794K",
        "colab_type": "code",
        "colab": {
          "base_uri": "https://localhost:8080/",
          "height": 350
        },
        "outputId": "6a3c4388-7c86-4036-8646-4686bfdf4bc8"
      },
      "source": [
        "import seaborn as sns\n",
        "plt.figure(figsize=(20,5))\n",
        "plt.subplot(131)\n",
        "sns.distplot((X[:, 0]), hist=True, kde=True, \n",
        "             bins=int(180/10), color = 'darkblue', \n",
        "             hist_kws={'edgecolor':'black'},\n",
        "             kde_kws={'linewidth': 4})\n",
        "plt.title(\"Kernel - Densidad\")\n",
        "plt.xlabel(\"sepal length\")\n",
        "plt.ylabel(\"Densidad\");\n",
        "\n",
        "plt.subplot(132)\n",
        "sns.distplot((X[:, 1]), hist=True, kde=True, \n",
        "             bins=int(180/10), color = 'darkgreen', \n",
        "             hist_kws={'edgecolor':'black'},\n",
        "             kde_kws={'linewidth': 4})\n",
        "plt.title(\"Kernel - Densidad\")\n",
        "plt.xlabel(\"sepal width\")\n",
        "plt.ylabel(\"Densidad\");\n",
        "\n",
        "plt.subplot(133)\n",
        "sns.distplot((iris.data[:, 2]), hist=True, kde=True, \n",
        "             bins=int(180/10), color = 'darkred', \n",
        "             hist_kws={'edgecolor':'black'},\n",
        "             kde_kws={'linewidth': 4})\n",
        "plt.title(\"Kernel - Densidad\")\n",
        "plt.xlabel(\"petal length\")\n",
        "plt.ylabel(\"Densidad\");"
      ],
      "execution_count": 88,
      "outputs": [
        {
          "output_type": "display_data",
          "data": {
            "text/html": [
              "<script src='https://www.gstatic.com/external_hosted/mathjax/latest/MathJax.js?config=default'></script>"
            ],
            "text/plain": [
              "<IPython.core.display.HTML object>"
            ]
          },
          "metadata": {
            "tags": []
          }
        },
        {
          "output_type": "display_data",
          "data": {
            "text/html": [
              "<script src='https://www.gstatic.com/external_hosted/mathjax/latest/MathJax.js?config=default'></script>"
            ],
            "text/plain": [
              "<IPython.core.display.HTML object>"
            ]
          },
          "metadata": {
            "tags": []
          }
        },
        {
          "output_type": "display_data",
          "data": {
            "image/png": "[encoded data removed]",
            "text/plain": [
              "<Figure size 1440x360 with 3 Axes>"
            ]
          },
          "metadata": {
            "tags": [],
            "needs_background": "light"
          }
        }
      ]
    },
    {
      "cell_type": "markdown",
      "metadata": {
        "id": "S6XhEbCQ-8Y5",
        "colab_type": "text"
      },
      "source": [
        "# Data Frame (pandas)"
      ]
    },
    {
      "cell_type": "code",
      "metadata": {
        "id": "lbUvTwaA_A9J",
        "colab_type": "code",
        "colab": {
          "base_uri": "https://localhost:8080/",
          "height": 196
        },
        "outputId": "5787ca90-a799-4634-8455-0dd0b0af80c9"
      },
      "source": [
        "import pandas as pd\n",
        "\n",
        "iris = pd.read_csv(\"https://raw.githubusercontent.com/toneloy/data/master/iris.csv\")\n",
        "iris.head()"
      ],
      "execution_count": 89,
      "outputs": [
        {
          "output_type": "display_data",
          "data": {
            "text/html": [
              "<script src='https://www.gstatic.com/external_hosted/mathjax/latest/MathJax.js?config=default'></script>"
            ],
            "text/plain": [
              "<IPython.core.display.HTML object>"
            ]
          },
          "metadata": {
            "tags": []
          }
        },
        {
          "output_type": "display_data",
          "data": {
            "text/html": [
              "<script src='https://www.gstatic.com/external_hosted/mathjax/latest/MathJax.js?config=default'></script>"
            ],
            "text/plain": [
              "<IPython.core.display.HTML object>"
            ]
          },
          "metadata": {
            "tags": []
          }
        },
        {
          "output_type": "execute_result",
          "data": {
            "text/html": [
              "<div>\n",
              "<style scoped>\n",
              "    .dataframe tbody tr th:only-of-type {\n",
              "        vertical-align: middle;\n",
              "    }\n",
              "\n",
              "    .dataframe tbody tr th {\n",
              "        vertical-align: top;\n",
              "    }\n",
              "\n",
              "    .dataframe thead th {\n",
              "        text-align: right;\n",
              "    }\n",
              "</style>\n",
              "<table border=\"1\" class=\"dataframe\">\n",
              "  <thead>\n",
              "    <tr style=\"text-align: right;\">\n",
              "      <th></th>\n",
              "      <th>sepal_length</th>\n",
              "      <th>sepal_width</th>\n",
              "      <th>petal_length</th>\n",
              "      <th>petal_width</th>\n",
              "      <th>species</th>\n",
              "    </tr>\n",
              "  </thead>\n",
              "  <tbody>\n",
              "    <tr>\n",
              "      <th>0</th>\n",
              "      <td>5.1</td>\n",
              "      <td>3.5</td>\n",
              "      <td>1.4</td>\n",
              "      <td>0.2</td>\n",
              "      <td>setosa</td>\n",
              "    </tr>\n",
              "    <tr>\n",
              "      <th>1</th>\n",
              "      <td>4.9</td>\n",
              "      <td>3.0</td>\n",
              "      <td>1.4</td>\n",
              "      <td>0.2</td>\n",
              "      <td>setosa</td>\n",
              "    </tr>\n",
              "    <tr>\n",
              "      <th>2</th>\n",
              "      <td>4.7</td>\n",
              "      <td>3.2</td>\n",
              "      <td>1.3</td>\n",
              "      <td>0.2</td>\n",
              "      <td>setosa</td>\n",
              "    </tr>\n",
              "    <tr>\n",
              "      <th>3</th>\n",
              "      <td>4.6</td>\n",
              "      <td>3.1</td>\n",
              "      <td>1.5</td>\n",
              "      <td>0.2</td>\n",
              "      <td>setosa</td>\n",
              "    </tr>\n",
              "    <tr>\n",
              "      <th>4</th>\n",
              "      <td>5.0</td>\n",
              "      <td>3.6</td>\n",
              "      <td>1.4</td>\n",
              "      <td>0.2</td>\n",
              "      <td>setosa</td>\n",
              "    </tr>\n",
              "  </tbody>\n",
              "</table>\n",
              "</div>"
            ],
            "text/plain": [
              "   sepal_length  sepal_width  petal_length  petal_width species\n",
              "0           5.1          3.5           1.4          0.2  setosa\n",
              "1           4.9          3.0           1.4          0.2  setosa\n",
              "2           4.7          3.2           1.3          0.2  setosa\n",
              "3           4.6          3.1           1.5          0.2  setosa\n",
              "4           5.0          3.6           1.4          0.2  setosa"
            ]
          },
          "metadata": {
            "tags": []
          },
          "execution_count": 89
        }
      ]
    },
    {
      "cell_type": "code",
      "metadata": {
        "id": "vDgIdzwO_cVK",
        "colab_type": "code",
        "colab": {
          "base_uri": "https://localhost:8080/",
          "height": 286
        },
        "outputId": "8d043449-0163-4431-ca7e-22b638f28c65"
      },
      "source": [
        "iris.describe()"
      ],
      "execution_count": 65,
      "outputs": [
        {
          "output_type": "display_data",
          "data": {
            "text/html": [
              "<script src='https://www.gstatic.com/external_hosted/mathjax/latest/MathJax.js?config=default'></script>"
            ],
            "text/plain": [
              "<IPython.core.display.HTML object>"
            ]
          },
          "metadata": {
            "tags": []
          }
        },
        {
          "output_type": "display_data",
          "data": {
            "text/html": [
              "<script src='https://www.gstatic.com/external_hosted/mathjax/latest/MathJax.js?config=default'></script>"
            ],
            "text/plain": [
              "<IPython.core.display.HTML object>"
            ]
          },
          "metadata": {
            "tags": []
          }
        },
        {
          "output_type": "execute_result",
          "data": {
            "text/html": [
              "<div>\n",
              "<style scoped>\n",
              "    .dataframe tbody tr th:only-of-type {\n",
              "        vertical-align: middle;\n",
              "    }\n",
              "\n",
              "    .dataframe tbody tr th {\n",
              "        vertical-align: top;\n",
              "    }\n",
              "\n",
              "    .dataframe thead th {\n",
              "        text-align: right;\n",
              "    }\n",
              "</style>\n",
              "<table border=\"1\" class=\"dataframe\">\n",
              "  <thead>\n",
              "    <tr style=\"text-align: right;\">\n",
              "      <th></th>\n",
              "      <th>sepal_length</th>\n",
              "      <th>sepal_width</th>\n",
              "      <th>petal_length</th>\n",
              "      <th>petal_width</th>\n",
              "    </tr>\n",
              "  </thead>\n",
              "  <tbody>\n",
              "    <tr>\n",
              "      <th>count</th>\n",
              "      <td>150.000000</td>\n",
              "      <td>150.000000</td>\n",
              "      <td>150.000000</td>\n",
              "      <td>150.000000</td>\n",
              "    </tr>\n",
              "    <tr>\n",
              "      <th>mean</th>\n",
              "      <td>5.843333</td>\n",
              "      <td>3.057333</td>\n",
              "      <td>3.758000</td>\n",
              "      <td>1.199333</td>\n",
              "    </tr>\n",
              "    <tr>\n",
              "      <th>std</th>\n",
              "      <td>0.828066</td>\n",
              "      <td>0.435866</td>\n",
              "      <td>1.765298</td>\n",
              "      <td>0.762238</td>\n",
              "    </tr>\n",
              "    <tr>\n",
              "      <th>min</th>\n",
              "      <td>4.300000</td>\n",
              "      <td>2.000000</td>\n",
              "      <td>1.000000</td>\n",
              "      <td>0.100000</td>\n",
              "    </tr>\n",
              "    <tr>\n",
              "      <th>25%</th>\n",
              "      <td>5.100000</td>\n",
              "      <td>2.800000</td>\n",
              "      <td>1.600000</td>\n",
              "      <td>0.300000</td>\n",
              "    </tr>\n",
              "    <tr>\n",
              "      <th>50%</th>\n",
              "      <td>5.800000</td>\n",
              "      <td>3.000000</td>\n",
              "      <td>4.350000</td>\n",
              "      <td>1.300000</td>\n",
              "    </tr>\n",
              "    <tr>\n",
              "      <th>75%</th>\n",
              "      <td>6.400000</td>\n",
              "      <td>3.300000</td>\n",
              "      <td>5.100000</td>\n",
              "      <td>1.800000</td>\n",
              "    </tr>\n",
              "    <tr>\n",
              "      <th>max</th>\n",
              "      <td>7.900000</td>\n",
              "      <td>4.400000</td>\n",
              "      <td>6.900000</td>\n",
              "      <td>2.500000</td>\n",
              "    </tr>\n",
              "  </tbody>\n",
              "</table>\n",
              "</div>"
            ],
            "text/plain": [
              "       sepal_length  sepal_width  petal_length  petal_width\n",
              "count    150.000000   150.000000    150.000000   150.000000\n",
              "mean       5.843333     3.057333      3.758000     1.199333\n",
              "std        0.828066     0.435866      1.765298     0.762238\n",
              "min        4.300000     2.000000      1.000000     0.100000\n",
              "25%        5.100000     2.800000      1.600000     0.300000\n",
              "50%        5.800000     3.000000      4.350000     1.300000\n",
              "75%        6.400000     3.300000      5.100000     1.800000\n",
              "max        7.900000     4.400000      6.900000     2.500000"
            ]
          },
          "metadata": {
            "tags": []
          },
          "execution_count": 65
        }
      ]
    },
    {
      "cell_type": "code",
      "metadata": {
        "id": "VsK7tbZLAAyJ",
        "colab_type": "code",
        "colab": {
          "base_uri": "https://localhost:8080/",
          "height": 464
        },
        "outputId": "95cd704d-68dd-48c3-976f-4561a1da55b7"
      },
      "source": [
        "from plotnine import *\n",
        "ggplot\n",
        "(ggplot(iris) +\n",
        "  geom_boxplot(aes(x=\"species\", y=\"sepal_length\", fill = 'species')))"
      ],
      "execution_count": 102,
      "outputs": [
        {
          "output_type": "display_data",
          "data": {
            "text/html": [
              "<script src='https://www.gstatic.com/external_hosted/mathjax/latest/MathJax.js?config=default'></script>"
            ],
            "text/plain": [
              "<IPython.core.display.HTML object>"
            ]
          },
          "metadata": {
            "tags": []
          }
        },
        {
          "output_type": "display_data",
          "data": {
            "text/html": [
              "<script src='https://www.gstatic.com/external_hosted/mathjax/latest/MathJax.js?config=default'></script>"
            ],
            "text/plain": [
              "<IPython.core.display.HTML object>"
            ]
          },
          "metadata": {
            "tags": []
          }
        },
        {
          "output_type": "display_data",
          "data": {
            "image/png": "[encoded data removed]",
            "text/plain": [
              "<Figure size 640x480 with 1 Axes>"
            ]
          },
          "metadata": {
            "tags": []
          }
        },
        {
          "output_type": "execute_result",
          "data": {
            "text/plain": [
              "<ggplot: (8777149544207)>"
            ]
          },
          "metadata": {
            "tags": []
          },
          "execution_count": 102
        }
      ]
    },
    {
      "cell_type": "code",
      "metadata": {
        "id": "JITjXS7bAmNd",
        "colab_type": "code",
        "colab": {
          "base_uri": "https://localhost:8080/",
          "height": 464
        },
        "outputId": "7e751b84-2e60-4dcb-f351-be36fd72eb2b"
      },
      "source": [
        "from plotnine import *\n",
        "(ggplot(iris) +\n",
        "  geom_boxplot(aes(x=\"species\", y=\"petal_length\", color = 'species')))"
      ],
      "execution_count": 103,
      "outputs": [
        {
          "output_type": "display_data",
          "data": {
            "text/html": [
              "<script src='https://www.gstatic.com/external_hosted/mathjax/latest/MathJax.js?config=default'></script>"
            ],
            "text/plain": [
              "<IPython.core.display.HTML object>"
            ]
          },
          "metadata": {
            "tags": []
          }
        },
        {
          "output_type": "display_data",
          "data": {
            "text/html": [
              "<script src='https://www.gstatic.com/external_hosted/mathjax/latest/MathJax.js?config=default'></script>"
            ],
            "text/plain": [
              "<IPython.core.display.HTML object>"
            ]
          },
          "metadata": {
            "tags": []
          }
        },
        {
          "output_type": "display_data",
          "data": {
            "image/png": "[encoded data removed]",
            "text/plain": [
              "<Figure size 640x480 with 1 Axes>"
            ]
          },
          "metadata": {
            "tags": []
          }
        },
        {
          "output_type": "execute_result",
          "data": {
            "text/plain": [
              "<ggplot: (8777149552690)>"
            ]
          },
          "metadata": {
            "tags": []
          },
          "execution_count": 103
        }
      ]
    },
    {
      "cell_type": "code",
      "metadata": {
        "id": "v5L6vefyAyI5",
        "colab_type": "code",
        "colab": {
          "base_uri": "https://localhost:8080/",
          "height": 468
        },
        "outputId": "0f802701-5e2d-41be-c766-986a7cc1056d"
      },
      "source": [
        "from plotnine import *\n",
        "(ggplot(iris) +\n",
        "  geom_boxplot(aes(x=\"species\", y=\"sepal_width\", fill = 'species')))"
      ],
      "execution_count": 104,
      "outputs": [
        {
          "output_type": "display_data",
          "data": {
            "text/html": [
              "<script src='https://www.gstatic.com/external_hosted/mathjax/latest/MathJax.js?config=default'></script>"
            ],
            "text/plain": [
              "<IPython.core.display.HTML object>"
            ]
          },
          "metadata": {
            "tags": []
          }
        },
        {
          "output_type": "display_data",
          "data": {
            "text/html": [
              "<script src='https://www.gstatic.com/external_hosted/mathjax/latest/MathJax.js?config=default'></script>"
            ],
            "text/plain": [
              "<IPython.core.display.HTML object>"
            ]
          },
          "metadata": {
            "tags": []
          }
        },
        {
          "output_type": "display_data",
          "data": {
            "image/png": "[encoded data removed]",
            "text/plain": [
              "<Figure size 640x480 with 1 Axes>"
            ]
          },
          "metadata": {
            "tags": []
          }
        },
        {
          "output_type": "execute_result",
          "data": {
            "text/plain": [
              "<ggplot: (-9223363259705615900)>"
            ]
          },
          "metadata": {
            "tags": []
          },
          "execution_count": 104
        }
      ]
    },
    {
      "cell_type": "code",
      "metadata": {
        "id": "0DOlM_9WA_u2",
        "colab_type": "code",
        "colab": {
          "base_uri": "https://localhost:8080/",
          "height": 444
        },
        "outputId": "668b935e-0d60-423e-e990-ebd95d19bf46"
      },
      "source": [
        "from plotnine import *\n",
        "\n",
        "(ggplot(iris) +\n",
        "  geom_boxplot(aes(x=0, y=\"petal_length\")) +\n",
        "  labs(x=\"all iris\") +\n",
        "  theme(\n",
        "    axis_text_x=element_blank(),\n",
        "    axis_ticks_minor_x=element_blank(),\n",
        "    axis_ticks_major_x=element_blank()\n",
        "  ))"
      ],
      "execution_count": 105,
      "outputs": [
        {
          "output_type": "display_data",
          "data": {
            "text/html": [
              "<script src='https://www.gstatic.com/external_hosted/mathjax/latest/MathJax.js?config=default'></script>"
            ],
            "text/plain": [
              "<IPython.core.display.HTML object>"
            ]
          },
          "metadata": {
            "tags": []
          }
        },
        {
          "output_type": "display_data",
          "data": {
            "text/html": [
              "<script src='https://www.gstatic.com/external_hosted/mathjax/latest/MathJax.js?config=default'></script>"
            ],
            "text/plain": [
              "<IPython.core.display.HTML object>"
            ]
          },
          "metadata": {
            "tags": []
          }
        },
        {
          "output_type": "display_data",
          "data": {
            "image/png": "[encoded data removed]",
            "text/plain": [
              "<Figure size 640x480 with 1 Axes>"
            ]
          },
          "metadata": {
            "tags": []
          }
        },
        {
          "output_type": "execute_result",
          "data": {
            "text/plain": [
              "<ggplot: (8777149544214)>"
            ]
          },
          "metadata": {
            "tags": []
          },
          "execution_count": 105
        }
      ]
    },
    {
      "cell_type": "markdown",
      "metadata": {
        "id": "GDyXowVsE2jL",
        "colab_type": "text"
      },
      "source": [
        "### Tablas de Frecuencias Variables Categóricas"
      ]
    },
    {
      "cell_type": "code",
      "metadata": {
        "id": "7Fuk6iC5EzvW",
        "colab_type": "code",
        "colab": {
          "base_uri": "https://localhost:8080/",
          "height": 334
        },
        "outputId": "d1e5daf0-b568-42ea-947c-d54a301e04c9"
      },
      "source": [
        "#Graficas por clases\n",
        "count_classes = pd.value_counts(iris.species, sort = True)\n",
        "plt.title(\"Conteo por estado ENSAMBLE\")\n",
        "plt.xlabel(\"Cluster\")\n",
        "plt.ylabel(\"Frecuencia\");"
      ],
      "execution_count": 79,
      "outputs": [
        {
          "output_type": "display_data",
          "data": {
            "text/html": [
              "<script src='https://www.gstatic.com/external_hosted/mathjax/latest/MathJax.js?config=default'></script>"
            ],
            "text/plain": [
              "<IPython.core.display.HTML object>"
            ]
          },
          "metadata": {
            "tags": []
          }
        },
        {
          "output_type": "display_data",
          "data": {
            "text/html": [
              "<script src='https://www.gstatic.com/external_hosted/mathjax/latest/MathJax.js?config=default'></script>"
            ],
            "text/plain": [
              "<IPython.core.display.HTML object>"
            ]
          },
          "metadata": {
            "tags": []
          }
        },
        {
          "output_type": "display_data",
          "data": {
            "image/png": "[encoded data removed]",
            "text/plain": [
              "<Figure size 432x288 with 1 Axes>"
            ]
          },
          "metadata": {
            "tags": [],
            "needs_background": "light"
          }
        }
      ]
    },
    {
      "cell_type": "code",
      "metadata": {
        "id": "0rg5TEDvFbKu",
        "colab_type": "code",
        "colab": {
          "base_uri": "https://localhost:8080/",
          "height": 84
        },
        "outputId": "4abecb31-1fe6-430d-b84f-c0776ee49b9c"
      },
      "source": [
        "count_classes"
      ],
      "execution_count": 107,
      "outputs": [
        {
          "output_type": "display_data",
          "data": {
            "text/html": [
              "<script src='https://www.gstatic.com/external_hosted/mathjax/latest/MathJax.js?config=default'></script>"
            ],
            "text/plain": [
              "<IPython.core.display.HTML object>"
            ]
          },
          "metadata": {
            "tags": []
          }
        },
        {
          "output_type": "display_data",
          "data": {
            "text/html": [
              "<script src='https://www.gstatic.com/external_hosted/mathjax/latest/MathJax.js?config=default'></script>"
            ],
            "text/plain": [
              "<IPython.core.display.HTML object>"
            ]
          },
          "metadata": {
            "tags": []
          }
        },
        {
          "output_type": "execute_result",
          "data": {
            "text/plain": [
              "versicolor    50\n",
              "setosa        50\n",
              "virginica     50\n",
              "Name: species, dtype: int64"
            ]
          },
          "metadata": {
            "tags": []
          },
          "execution_count": 107
        }
      ]
    },
    {
      "cell_type": "code",
      "metadata": {
        "id": "c-SIcI0lFgCL",
        "colab_type": "code",
        "colab": {
          "base_uri": "https://localhost:8080/",
          "height": 216
        },
        "outputId": "960feba2-7691-44f9-cc1d-2b5c1f722251"
      },
      "source": [
        "grouped_data = iris.groupby('species')\n",
        "grouped_data.describe()"
      ],
      "execution_count": 108,
      "outputs": [
        {
          "output_type": "display_data",
          "data": {
            "text/html": [
              "<script src='https://www.gstatic.com/external_hosted/mathjax/latest/MathJax.js?config=default'></script>"
            ],
            "text/plain": [
              "<IPython.core.display.HTML object>"
            ]
          },
          "metadata": {
            "tags": []
          }
        },
        {
          "output_type": "display_data",
          "data": {
            "text/html": [
              "<script src='https://www.gstatic.com/external_hosted/mathjax/latest/MathJax.js?config=default'></script>"
            ],
            "text/plain": [
              "<IPython.core.display.HTML object>"
            ]
          },
          "metadata": {
            "tags": []
          }
        },
        {
          "output_type": "execute_result",
          "data": {
            "text/html": [
              "<div>\n",
              "<style scoped>\n",
              "    .dataframe tbody tr th:only-of-type {\n",
              "        vertical-align: middle;\n",
              "    }\n",
              "\n",
              "    .dataframe tbody tr th {\n",
              "        vertical-align: top;\n",
              "    }\n",
              "\n",
              "    .dataframe thead tr th {\n",
              "        text-align: left;\n",
              "    }\n",
              "\n",
              "    .dataframe thead tr:last-of-type th {\n",
              "        text-align: right;\n",
              "    }\n",
              "</style>\n",
              "<table border=\"1\" class=\"dataframe\">\n",
              "  <thead>\n",
              "    <tr>\n",
              "      <th></th>\n",
              "      <th colspan=\"8\" halign=\"left\">sepal_length</th>\n",
              "      <th colspan=\"8\" halign=\"left\">sepal_width</th>\n",
              "      <th colspan=\"8\" halign=\"left\">petal_length</th>\n",
              "      <th colspan=\"8\" halign=\"left\">petal_width</th>\n",
              "    </tr>\n",
              "    <tr>\n",
              "      <th></th>\n",
              "      <th>count</th>\n",
              "      <th>mean</th>\n",
              "      <th>std</th>\n",
              "      <th>min</th>\n",
              "      <th>25%</th>\n",
              "      <th>50%</th>\n",
              "      <th>75%</th>\n",
              "      <th>max</th>\n",
              "      <th>count</th>\n",
              "      <th>mean</th>\n",
              "      <th>std</th>\n",
              "      <th>min</th>\n",
              "      <th>25%</th>\n",
              "      <th>50%</th>\n",
              "      <th>75%</th>\n",
              "      <th>max</th>\n",
              "      <th>count</th>\n",
              "      <th>mean</th>\n",
              "      <th>std</th>\n",
              "      <th>min</th>\n",
              "      <th>25%</th>\n",
              "      <th>50%</th>\n",
              "      <th>75%</th>\n",
              "      <th>max</th>\n",
              "      <th>count</th>\n",
              "      <th>mean</th>\n",
              "      <th>std</th>\n",
              "      <th>min</th>\n",
              "      <th>25%</th>\n",
              "      <th>50%</th>\n",
              "      <th>75%</th>\n",
              "      <th>max</th>\n",
              "    </tr>\n",
              "    <tr>\n",
              "      <th>species</th>\n",
              "      <th></th>\n",
              "      <th></th>\n",
              "      <th></th>\n",
              "      <th></th>\n",
              "      <th></th>\n",
              "      <th></th>\n",
              "      <th></th>\n",
              "      <th></th>\n",
              "      <th></th>\n",
              "      <th></th>\n",
              "      <th></th>\n",
              "      <th></th>\n",
              "      <th></th>\n",
              "      <th></th>\n",
              "      <th></th>\n",
              "      <th></th>\n",
              "      <th></th>\n",
              "      <th></th>\n",
              "      <th></th>\n",
              "      <th></th>\n",
              "      <th></th>\n",
              "      <th></th>\n",
              "      <th></th>\n",
              "      <th></th>\n",
              "      <th></th>\n",
              "      <th></th>\n",
              "      <th></th>\n",
              "      <th></th>\n",
              "      <th></th>\n",
              "      <th></th>\n",
              "      <th></th>\n",
              "      <th></th>\n",
              "    </tr>\n",
              "  </thead>\n",
              "  <tbody>\n",
              "    <tr>\n",
              "      <th>setosa</th>\n",
              "      <td>50.0</td>\n",
              "      <td>5.006</td>\n",
              "      <td>0.352490</td>\n",
              "      <td>4.3</td>\n",
              "      <td>4.800</td>\n",
              "      <td>5.0</td>\n",
              "      <td>5.2</td>\n",
              "      <td>5.8</td>\n",
              "      <td>50.0</td>\n",
              "      <td>3.428</td>\n",
              "      <td>0.379064</td>\n",
              "      <td>2.3</td>\n",
              "      <td>3.200</td>\n",
              "      <td>3.4</td>\n",
              "      <td>3.675</td>\n",
              "      <td>4.4</td>\n",
              "      <td>50.0</td>\n",
              "      <td>1.462</td>\n",
              "      <td>0.173664</td>\n",
              "      <td>1.0</td>\n",
              "      <td>1.4</td>\n",
              "      <td>1.50</td>\n",
              "      <td>1.575</td>\n",
              "      <td>1.9</td>\n",
              "      <td>50.0</td>\n",
              "      <td>0.246</td>\n",
              "      <td>0.105386</td>\n",
              "      <td>0.1</td>\n",
              "      <td>0.2</td>\n",
              "      <td>0.2</td>\n",
              "      <td>0.3</td>\n",
              "      <td>0.6</td>\n",
              "    </tr>\n",
              "    <tr>\n",
              "      <th>versicolor</th>\n",
              "      <td>50.0</td>\n",
              "      <td>5.936</td>\n",
              "      <td>0.516171</td>\n",
              "      <td>4.9</td>\n",
              "      <td>5.600</td>\n",
              "      <td>5.9</td>\n",
              "      <td>6.3</td>\n",
              "      <td>7.0</td>\n",
              "      <td>50.0</td>\n",
              "      <td>2.770</td>\n",
              "      <td>0.313798</td>\n",
              "      <td>2.0</td>\n",
              "      <td>2.525</td>\n",
              "      <td>2.8</td>\n",
              "      <td>3.000</td>\n",
              "      <td>3.4</td>\n",
              "      <td>50.0</td>\n",
              "      <td>4.260</td>\n",
              "      <td>0.469911</td>\n",
              "      <td>3.0</td>\n",
              "      <td>4.0</td>\n",
              "      <td>4.35</td>\n",
              "      <td>4.600</td>\n",
              "      <td>5.1</td>\n",
              "      <td>50.0</td>\n",
              "      <td>1.326</td>\n",
              "      <td>0.197753</td>\n",
              "      <td>1.0</td>\n",
              "      <td>1.2</td>\n",
              "      <td>1.3</td>\n",
              "      <td>1.5</td>\n",
              "      <td>1.8</td>\n",
              "    </tr>\n",
              "    <tr>\n",
              "      <th>virginica</th>\n",
              "      <td>50.0</td>\n",
              "      <td>6.588</td>\n",
              "      <td>0.635880</td>\n",
              "      <td>4.9</td>\n",
              "      <td>6.225</td>\n",
              "      <td>6.5</td>\n",
              "      <td>6.9</td>\n",
              "      <td>7.9</td>\n",
              "      <td>50.0</td>\n",
              "      <td>2.974</td>\n",
              "      <td>0.322497</td>\n",
              "      <td>2.2</td>\n",
              "      <td>2.800</td>\n",
              "      <td>3.0</td>\n",
              "      <td>3.175</td>\n",
              "      <td>3.8</td>\n",
              "      <td>50.0</td>\n",
              "      <td>5.552</td>\n",
              "      <td>0.551895</td>\n",
              "      <td>4.5</td>\n",
              "      <td>5.1</td>\n",
              "      <td>5.55</td>\n",
              "      <td>5.875</td>\n",
              "      <td>6.9</td>\n",
              "      <td>50.0</td>\n",
              "      <td>2.026</td>\n",
              "      <td>0.274650</td>\n",
              "      <td>1.4</td>\n",
              "      <td>1.8</td>\n",
              "      <td>2.0</td>\n",
              "      <td>2.3</td>\n",
              "      <td>2.5</td>\n",
              "    </tr>\n",
              "  </tbody>\n",
              "</table>\n",
              "</div>"
            ],
            "text/plain": [
              "           sepal_length                               ... petal_width                    \n",
              "                  count   mean       std  min    25%  ...         min  25%  50%  75%  max\n",
              "species                                               ...                                \n",
              "setosa             50.0  5.006  0.352490  4.3  4.800  ...         0.1  0.2  0.2  0.3  0.6\n",
              "versicolor         50.0  5.936  0.516171  4.9  5.600  ...         1.0  1.2  1.3  1.5  1.8\n",
              "virginica          50.0  6.588  0.635880  4.9  6.225  ...         1.4  1.8  2.0  2.3  2.5\n",
              "\n",
              "[3 rows x 32 columns]"
            ]
          },
          "metadata": {
            "tags": []
          },
          "execution_count": 108
        }
      ]
    },
    {
      "cell_type": "markdown",
      "metadata": {
        "id": "DZncw6nCOfOp",
        "colab_type": "text"
      },
      "source": [
        "### Time series"
      ]
    },
    {
      "cell_type": "code",
      "metadata": {
        "id": "MqN33dKNNoHD",
        "colab_type": "code",
        "colab": {
          "base_uri": "https://localhost:8080/",
          "height": 368
        },
        "outputId": "31645a79-2a98-4584-8183-328c02d19af7"
      },
      "source": [
        "from vega_datasets import data\n",
        "stocks = data.stocks()\n",
        "\n",
        "import altair as alt\n",
        "alt.Chart(stocks).mark_line().encode(\n",
        "  x='date:T',\n",
        "  y='price',\n",
        "  color='symbol'\n",
        ").interactive(bind_y=False)"
      ],
      "execution_count": null,
      "outputs": [
        {
          "output_type": "display_data",
          "data": {
            "text/html": [
              "<script src='https://www.gstatic.com/external_hosted/mathjax/latest/MathJax.js?config=default'></script>"
            ],
            "text/plain": [
              "<IPython.core.display.HTML object>"
            ]
          },
          "metadata": {
            "tags": []
          }
        },
        {
          "output_type": "display_data",
          "data": {
            "text/html": [
              "<script src='https://www.gstatic.com/external_hosted/mathjax/latest/MathJax.js?config=default'></script>"
            ],
            "text/plain": [
              "<IPython.core.display.HTML object>"
            ]
          },
          "metadata": {
            "tags": []
          }
        },
        {
          "output_type": "execute_result",
          "data": {
            "text/plain": [
              "alt.Chart(...)"
            ],
            "text/html": [
              "\n",
              "<div id=\"altair-viz-fa439efe273f46b4a2da72128270188e\"></div>\n",
              "<script type=\"text/javascript\">\n",
              "  (function(spec, embedOpt){\n",
              "    let outputDiv = document.currentScript.previousElementSibling;\n",
              "    if (outputDiv.id !== \"altair-viz-fa439efe273f46b4a2da72128270188e\") {\n",
              "      outputDiv = document.getElementById(\"altair-viz-fa439efe273f46b4a2da72128270188e\");\n",
              "    }\n",
              "    const paths = {\n",
              "      \"vega\": \"https://cdn.jsdelivr.net/npm//vega@5?noext\",\n",
              "      \"vega-lib\": \"https://cdn.jsdelivr.net/npm//vega-lib?noext\",\n",
              "      \"vega-lite\": \"https://cdn.jsdelivr.net/npm//vega-lite@4.8.1?noext\",\n",
              "      \"vega-embed\": \"https://cdn.jsdelivr.net/npm//vega-embed@6?noext\",\n",
              "    };\n",
              "\n",
              "    function loadScript(lib) {\n",
              "      return new Promise(function(resolve, reject) {\n",
              "        var s = document.createElement('script');\n",
              "        s.src = paths[lib];\n",
              "        s.async = true;\n",
              "        s.onload = () => resolve(paths[lib]);\n",
              "        s.onerror = () => reject(`Error loading script: ${paths[lib]}`);\n",
              "        document.getElementsByTagName(\"head\")[0].appendChild(s);\n",
              "      });\n",
              "    }\n",
              "\n",
              "    function showError(err) {\n",
              "      outputDiv.innerHTML = `<div class=\"error\" style=\"color:red;\">${err}</div>`;\n",
              "      throw err;\n",
              "    }\n",
              "\n",
              "    function displayChart(vegaEmbed) {\n",
              "      vegaEmbed(outputDiv, spec, embedOpt)\n",
              "        .catch(err => showError(`Javascript Error: ${err.message}<br>This usually means there's a typo in your chart specification. See the javascript console for the full traceback.`));\n",
              "    }\n",
              "\n",
              "    if(typeof define === \"function\" && define.amd) {\n",
              "      requirejs.config({paths});\n",
              "      require([\"vega-embed\"], displayChart, err => showError(`Error loading script: ${err.message}`));\n",
              "    } else if (typeof vegaEmbed === \"function\") {\n",
              "      displayChart(vegaEmbed);\n",
              "    } else {\n",
              "      loadScript(\"vega\")\n",
              "        .then(() => loadScript(\"vega-lite\"))\n",
              "        .then(() => loadScript(\"vega-embed\"))\n",
              "        .catch(showError)\n",
              "        .then(() => displayChart(vegaEmbed));\n",
              "    }\n",
              "  })({\"config\": {\"view\": {\"continuousWidth\": 400, \"continuousHeight\": 300}}, \"data\": {\"name\": \"data-96e857a61c6b623bafe23440d582a500\"}, \"mark\": \"line\", \"encoding\": {\"color\": {\"type\": \"nominal\", \"field\": \"symbol\"}, \"x\": {\"type\": \"temporal\", \"field\": \"date\"}, \"y\": {\"type\": \"quantitative\", \"field\": \"price\"}}, \"selection\": {\"selector004\": {\"type\": \"interval\", \"bind\": \"scales\", \"encodings\": [\"x\"]}}, \"$schema\": \"https://vega.github.io/schema/vega-lite/v4.8.1.json\", \"datasets\": {\"data-96e857a61c6b623bafe23440d582a500\": [{\"symbol\": \"MSFT\", \"date\": \"2000-01-01T00:00:00\", \"price\": 39.81}, {\"symbol\": \"MSFT\", \"date\": \"2000-02-01T00:00:00\", \"price\": 36.35}, {\"symbol\": \"MSFT\", \"date\": \"2000-03-01T00:00:00\", \"price\": 43.22}, {\"symbol\": \"MSFT\", \"date\": \"2000-04-01T00:00:00\", \"price\": 28.37}, {\"symbol\": \"MSFT\", \"date\": \"2000-05-01T00:00:00\", \"price\": 25.45}, {\"symbol\": \"MSFT\", \"date\": \"2000-06-01T00:00:00\", \"price\": 32.54}, {\"symbol\": \"MSFT\", \"date\": \"2000-07-01T00:00:00\", \"price\": 28.4}, {\"symbol\": \"MSFT\", \"date\": \"2000-08-01T00:00:00\", \"price\": 28.4}, {\"symbol\": \"MSFT\", \"date\": \"2000-09-01T00:00:00\", \"price\": 24.53}, {\"symbol\": \"MSFT\", \"date\": \"2000-10-01T00:00:00\", \"price\": 28.02}, {\"symbol\": \"MSFT\", \"date\": \"2000-11-01T00:00:00\", \"price\": 23.34}, {\"symbol\": \"MSFT\", \"date\": \"2000-12-01T00:00:00\", \"price\": 17.65}, {\"symbol\": \"MSFT\", \"date\": \"2001-01-01T00:00:00\", \"price\": 24.84}, {\"symbol\": \"MSFT\", \"date\": \"2001-02-01T00:00:00\", \"price\": 24.0}, {\"symbol\": \"MSFT\", \"date\": \"2001-03-01T00:00:00\", \"price\": 22.25}, {\"symbol\": \"MSFT\", \"date\": \"2001-04-01T00:00:00\", \"price\": 27.56}, {\"symbol\": \"MSFT\", \"date\": \"2001-05-01T00:00:00\", \"price\": 28.14}, {\"symbol\": \"MSFT\", \"date\": \"2001-06-01T00:00:00\", \"price\": 29.7}, {\"symbol\": \"MSFT\", \"date\": \"2001-07-01T00:00:00\", \"price\": 26.93}, {\"symbol\": \"MSFT\", \"date\": \"2001-08-01T00:00:00\", \"price\": 23.21}, {\"symbol\": \"MSFT\", \"date\": \"2001-09-01T00:00:00\", \"price\": 20.82}, {\"symbol\": \"MSFT\", \"date\": \"2001-10-01T00:00:00\", \"price\": 23.65}, {\"symbol\": \"MSFT\", \"date\": \"2001-11-01T00:00:00\", \"price\": 26.12}, {\"symbol\": \"MSFT\", \"date\": \"2001-12-01T00:00:00\", \"price\": 26.95}, {\"symbol\": \"MSFT\", \"date\": \"2002-01-01T00:00:00\", \"price\": 25.92}, {\"symbol\": \"MSFT\", \"date\": \"2002-02-01T00:00:00\", \"price\": 23.73}, {\"symbol\": \"MSFT\", \"date\": \"2002-03-01T00:00:00\", \"price\": 24.53}, {\"symbol\": \"MSFT\", \"date\": \"2002-04-01T00:00:00\", \"price\": 21.26}, {\"symbol\": \"MSFT\", \"date\": \"2002-05-01T00:00:00\", \"price\": 20.71}, {\"symbol\": \"MSFT\", \"date\": \"2002-06-01T00:00:00\", \"price\": 22.25}, {\"symbol\": \"MSFT\", \"date\": \"2002-07-01T00:00:00\", \"price\": 19.52}, {\"symbol\": \"MSFT\", \"date\": \"2002-08-01T00:00:00\", \"price\": 19.97}, {\"symbol\": \"MSFT\", \"date\": \"2002-09-01T00:00:00\", \"price\": 17.79}, {\"symbol\": \"MSFT\", \"date\": \"2002-10-01T00:00:00\", \"price\": 21.75}, {\"symbol\": \"MSFT\", \"date\": \"2002-11-01T00:00:00\", \"price\": 23.46}, {\"symbol\": \"MSFT\", \"date\": \"2002-12-01T00:00:00\", \"price\": 21.03}, {\"symbol\": \"MSFT\", \"date\": \"2003-01-01T00:00:00\", \"price\": 19.31}, {\"symbol\": \"MSFT\", \"date\": \"2003-02-01T00:00:00\", \"price\": 19.34}, {\"symbol\": \"MSFT\", \"date\": \"2003-03-01T00:00:00\", \"price\": 19.76}, {\"symbol\": \"MSFT\", \"date\": \"2003-04-01T00:00:00\", \"price\": 20.87}, {\"symbol\": \"MSFT\", \"date\": \"2003-05-01T00:00:00\", \"price\": 20.09}, {\"symbol\": \"MSFT\", \"date\": \"2003-06-01T00:00:00\", \"price\": 20.93}, {\"symbol\": \"MSFT\", \"date\": \"2003-07-01T00:00:00\", \"price\": 21.56}, {\"symbol\": \"MSFT\", \"date\": \"2003-08-01T00:00:00\", \"price\": 21.65}, {\"symbol\": \"MSFT\", \"date\": \"2003-09-01T00:00:00\", \"price\": 22.69}, {\"symbol\": \"MSFT\", \"date\": \"2003-10-01T00:00:00\", \"price\": 21.45}, {\"symbol\": \"MSFT\", \"date\": \"2003-11-01T00:00:00\", \"price\": 21.1}, {\"symbol\": \"MSFT\", \"date\": \"2003-12-01T00:00:00\", \"price\": 22.46}, {\"symbol\": \"MSFT\", \"date\": \"2004-01-01T00:00:00\", \"price\": 22.69}, {\"symbol\": \"MSFT\", \"date\": \"2004-02-01T00:00:00\", \"price\": 21.77}, {\"symbol\": \"MSFT\", \"date\": \"2004-03-01T00:00:00\", \"price\": 20.46}, {\"symbol\": \"MSFT\", \"date\": \"2004-04-01T00:00:00\", \"price\": 21.45}, {\"symbol\": \"MSFT\", \"date\": \"2004-05-01T00:00:00\", \"price\": 21.53}, {\"symbol\": \"MSFT\", \"date\": \"2004-06-01T00:00:00\", \"price\": 23.44}, {\"symbol\": \"MSFT\", \"date\": \"2004-07-01T00:00:00\", \"price\": 23.38}, {\"symbol\": \"MSFT\", \"date\": \"2004-08-01T00:00:00\", \"price\": 22.47}, {\"symbol\": \"MSFT\", \"date\": \"2004-09-01T00:00:00\", \"price\": 22.76}, {\"symbol\": \"MSFT\", \"date\": \"2004-10-01T00:00:00\", \"price\": 23.02}, {\"symbol\": \"MSFT\", \"date\": \"2004-11-01T00:00:00\", \"price\": 24.6}, {\"symbol\": \"MSFT\", \"date\": \"2004-12-01T00:00:00\", \"price\": 24.52}, {\"symbol\": \"MSFT\", \"date\": \"2005-01-01T00:00:00\", \"price\": 24.11}, {\"symbol\": \"MSFT\", \"date\": \"2005-02-01T00:00:00\", \"price\": 23.15}, {\"symbol\": \"MSFT\", \"date\": \"2005-03-01T00:00:00\", \"price\": 22.24}, {\"symbol\": \"MSFT\", \"date\": \"2005-04-01T00:00:00\", \"price\": 23.28}, {\"symbol\": \"MSFT\", \"date\": \"2005-05-01T00:00:00\", \"price\": 23.82}, {\"symbol\": \"MSFT\", \"date\": \"2005-06-01T00:00:00\", \"price\": 22.93}, {\"symbol\": \"MSFT\", \"date\": \"2005-07-01T00:00:00\", \"price\": 23.64}, {\"symbol\": \"MSFT\", \"date\": \"2005-08-01T00:00:00\", \"price\": 25.35}, {\"symbol\": \"MSFT\", \"date\": \"2005-09-01T00:00:00\", \"price\": 23.83}, {\"symbol\": \"MSFT\", \"date\": \"2005-10-01T00:00:00\", \"price\": 23.8}, {\"symbol\": \"MSFT\", \"date\": \"2005-11-01T00:00:00\", \"price\": 25.71}, {\"symbol\": \"MSFT\", \"date\": \"2005-12-01T00:00:00\", \"price\": 24.29}, {\"symbol\": \"MSFT\", \"date\": \"2006-01-01T00:00:00\", \"price\": 26.14}, {\"symbol\": \"MSFT\", \"date\": \"2006-02-01T00:00:00\", \"price\": 25.04}, {\"symbol\": \"MSFT\", \"date\": \"2006-03-01T00:00:00\", \"price\": 25.36}, {\"symbol\": \"MSFT\", \"date\": \"2006-04-01T00:00:00\", \"price\": 22.5}, {\"symbol\": \"MSFT\", \"date\": \"2006-05-01T00:00:00\", \"price\": 21.19}, {\"symbol\": \"MSFT\", \"date\": \"2006-06-01T00:00:00\", \"price\": 21.8}, {\"symbol\": \"MSFT\", \"date\": \"2006-07-01T00:00:00\", \"price\": 22.51}, {\"symbol\": \"MSFT\", \"date\": \"2006-08-01T00:00:00\", \"price\": 24.13}, {\"symbol\": \"MSFT\", \"date\": \"2006-09-01T00:00:00\", \"price\": 25.68}, {\"symbol\": \"MSFT\", \"date\": \"2006-10-01T00:00:00\", \"price\": 26.96}, {\"symbol\": \"MSFT\", \"date\": \"2006-11-01T00:00:00\", \"price\": 27.66}, {\"symbol\": \"MSFT\", \"date\": \"2006-12-01T00:00:00\", \"price\": 28.13}, {\"symbol\": \"MSFT\", \"date\": \"2007-01-01T00:00:00\", \"price\": 29.07}, {\"symbol\": \"MSFT\", \"date\": \"2007-02-01T00:00:00\", \"price\": 26.63}, {\"symbol\": \"MSFT\", \"date\": \"2007-03-01T00:00:00\", \"price\": 26.35}, {\"symbol\": \"MSFT\", \"date\": \"2007-04-01T00:00:00\", \"price\": 28.3}, {\"symbol\": \"MSFT\", \"date\": \"2007-05-01T00:00:00\", \"price\": 29.11}, {\"symbol\": \"MSFT\", \"date\": \"2007-06-01T00:00:00\", \"price\": 27.95}, {\"symbol\": \"MSFT\", \"date\": \"2007-07-01T00:00:00\", \"price\": 27.5}, {\"symbol\": \"MSFT\", \"date\": \"2007-08-01T00:00:00\", \"price\": 27.34}, {\"symbol\": \"MSFT\", \"date\": \"2007-09-01T00:00:00\", \"price\": 28.04}, {\"symbol\": \"MSFT\", \"date\": \"2007-10-01T00:00:00\", \"price\": 35.03}, {\"symbol\": \"MSFT\", \"date\": \"2007-11-01T00:00:00\", \"price\": 32.09}, {\"symbol\": \"MSFT\", \"date\": \"2007-12-01T00:00:00\", \"price\": 34.0}, {\"symbol\": \"MSFT\", \"date\": \"2008-01-01T00:00:00\", \"price\": 31.13}, {\"symbol\": \"MSFT\", \"date\": \"2008-02-01T00:00:00\", \"price\": 26.07}, {\"symbol\": \"MSFT\", \"date\": \"2008-03-01T00:00:00\", \"price\": 27.21}, {\"symbol\": \"MSFT\", \"date\": \"2008-04-01T00:00:00\", \"price\": 27.34}, {\"symbol\": \"MSFT\", \"date\": \"2008-05-01T00:00:00\", \"price\": 27.25}, {\"symbol\": \"MSFT\", \"date\": \"2008-06-01T00:00:00\", \"price\": 26.47}, {\"symbol\": \"MSFT\", \"date\": \"2008-07-01T00:00:00\", \"price\": 24.75}, {\"symbol\": \"MSFT\", \"date\": \"2008-08-01T00:00:00\", \"price\": 26.36}, {\"symbol\": \"MSFT\", \"date\": \"2008-09-01T00:00:00\", \"price\": 25.78}, {\"symbol\": \"MSFT\", \"date\": \"2008-10-01T00:00:00\", \"price\": 21.57}, {\"symbol\": \"MSFT\", \"date\": \"2008-11-01T00:00:00\", \"price\": 19.66}, {\"symbol\": \"MSFT\", \"date\": \"2008-12-01T00:00:00\", \"price\": 18.91}, {\"symbol\": \"MSFT\", \"date\": \"2009-01-01T00:00:00\", \"price\": 16.63}, {\"symbol\": \"MSFT\", \"date\": \"2009-02-01T00:00:00\", \"price\": 15.81}, {\"symbol\": \"MSFT\", \"date\": \"2009-03-01T00:00:00\", \"price\": 17.99}, {\"symbol\": \"MSFT\", \"date\": \"2009-04-01T00:00:00\", \"price\": 19.84}, {\"symbol\": \"MSFT\", \"date\": \"2009-05-01T00:00:00\", \"price\": 20.59}, {\"symbol\": \"MSFT\", \"date\": \"2009-06-01T00:00:00\", \"price\": 23.42}, {\"symbol\": \"MSFT\", \"date\": \"2009-07-01T00:00:00\", \"price\": 23.18}, {\"symbol\": \"MSFT\", \"date\": \"2009-08-01T00:00:00\", \"price\": 24.43}, {\"symbol\": \"MSFT\", \"date\": \"2009-09-01T00:00:00\", \"price\": 25.49}, {\"symbol\": \"MSFT\", \"date\": \"2009-10-01T00:00:00\", \"price\": 27.48}, {\"symbol\": \"MSFT\", \"date\": \"2009-11-01T00:00:00\", \"price\": 29.27}, {\"symbol\": \"MSFT\", \"date\": \"2009-12-01T00:00:00\", \"price\": 30.34}, {\"symbol\": \"MSFT\", \"date\": \"2010-01-01T00:00:00\", \"price\": 28.05}, {\"symbol\": \"MSFT\", \"date\": \"2010-02-01T00:00:00\", \"price\": 28.67}, {\"symbol\": \"MSFT\", \"date\": \"2010-03-01T00:00:00\", \"price\": 28.8}, {\"symbol\": \"AMZN\", \"date\": \"2000-01-01T00:00:00\", \"price\": 64.56}, {\"symbol\": \"AMZN\", \"date\": \"2000-02-01T00:00:00\", \"price\": 68.87}, {\"symbol\": \"AMZN\", \"date\": \"2000-03-01T00:00:00\", \"price\": 67.0}, {\"symbol\": \"AMZN\", \"date\": \"2000-04-01T00:00:00\", \"price\": 55.19}, {\"symbol\": \"AMZN\", \"date\": \"2000-05-01T00:00:00\", \"price\": 48.31}, {\"symbol\": \"AMZN\", \"date\": \"2000-06-01T00:00:00\", \"price\": 36.31}, {\"symbol\": \"AMZN\", \"date\": \"2000-07-01T00:00:00\", \"price\": 30.12}, {\"symbol\": \"AMZN\", \"date\": \"2000-08-01T00:00:00\", \"price\": 41.5}, {\"symbol\": \"AMZN\", \"date\": \"2000-09-01T00:00:00\", \"price\": 38.44}, {\"symbol\": \"AMZN\", \"date\": \"2000-10-01T00:00:00\", \"price\": 36.62}, {\"symbol\": \"AMZN\", \"date\": \"2000-11-01T00:00:00\", \"price\": 24.69}, {\"symbol\": \"AMZN\", \"date\": \"2000-12-01T00:00:00\", \"price\": 15.56}, {\"symbol\": \"AMZN\", \"date\": \"2001-01-01T00:00:00\", \"price\": 17.31}, {\"symbol\": \"AMZN\", \"date\": \"2001-02-01T00:00:00\", \"price\": 10.19}, {\"symbol\": \"AMZN\", \"date\": \"2001-03-01T00:00:00\", \"price\": 10.23}, {\"symbol\": \"AMZN\", \"date\": \"2001-04-01T00:00:00\", \"price\": 15.78}, {\"symbol\": \"AMZN\", \"date\": \"2001-05-01T00:00:00\", \"price\": 16.69}, {\"symbol\": \"AMZN\", \"date\": \"2001-06-01T00:00:00\", \"price\": 14.15}, {\"symbol\": \"AMZN\", \"date\": \"2001-07-01T00:00:00\", \"price\": 12.49}, {\"symbol\": \"AMZN\", \"date\": \"2001-08-01T00:00:00\", \"price\": 8.94}, {\"symbol\": \"AMZN\", \"date\": \"2001-09-01T00:00:00\", \"price\": 5.97}, {\"symbol\": \"AMZN\", \"date\": \"2001-10-01T00:00:00\", \"price\": 6.98}, {\"symbol\": \"AMZN\", \"date\": \"2001-11-01T00:00:00\", \"price\": 11.32}, {\"symbol\": \"AMZN\", \"date\": \"2001-12-01T00:00:00\", \"price\": 10.82}, {\"symbol\": \"AMZN\", \"date\": \"2002-01-01T00:00:00\", \"price\": 14.19}, {\"symbol\": \"AMZN\", \"date\": \"2002-02-01T00:00:00\", \"price\": 14.1}, {\"symbol\": \"AMZN\", \"date\": \"2002-03-01T00:00:00\", \"price\": 14.3}, {\"symbol\": \"AMZN\", \"date\": \"2002-04-01T00:00:00\", \"price\": 16.69}, {\"symbol\": \"AMZN\", \"date\": \"2002-05-01T00:00:00\", \"price\": 18.23}, {\"symbol\": \"AMZN\", \"date\": \"2002-06-01T00:00:00\", \"price\": 16.25}, {\"symbol\": \"AMZN\", \"date\": \"2002-07-01T00:00:00\", \"price\": 14.45}, {\"symbol\": \"AMZN\", \"date\": \"2002-08-01T00:00:00\", \"price\": 14.94}, {\"symbol\": \"AMZN\", \"date\": \"2002-09-01T00:00:00\", \"price\": 15.93}, {\"symbol\": \"AMZN\", \"date\": \"2002-10-01T00:00:00\", \"price\": 19.36}, {\"symbol\": \"AMZN\", \"date\": \"2002-11-01T00:00:00\", \"price\": 23.35}, {\"symbol\": \"AMZN\", \"date\": \"2002-12-01T00:00:00\", \"price\": 18.89}, {\"symbol\": \"AMZN\", \"date\": \"2003-01-01T00:00:00\", \"price\": 21.85}, {\"symbol\": \"AMZN\", \"date\": \"2003-02-01T00:00:00\", \"price\": 22.01}, {\"symbol\": \"AMZN\", \"date\": \"2003-03-01T00:00:00\", \"price\": 26.03}, {\"symbol\": \"AMZN\", \"date\": \"2003-04-01T00:00:00\", \"price\": 28.69}, {\"symbol\": \"AMZN\", \"date\": \"2003-05-01T00:00:00\", \"price\": 35.89}, {\"symbol\": \"AMZN\", \"date\": \"2003-06-01T00:00:00\", \"price\": 36.32}, {\"symbol\": \"AMZN\", \"date\": \"2003-07-01T00:00:00\", \"price\": 41.64}, {\"symbol\": \"AMZN\", \"date\": \"2003-08-01T00:00:00\", \"price\": 46.32}, {\"symbol\": \"AMZN\", \"date\": \"2003-09-01T00:00:00\", \"price\": 48.43}, {\"symbol\": \"AMZN\", \"date\": \"2003-10-01T00:00:00\", \"price\": 54.43}, {\"symbol\": \"AMZN\", \"date\": \"2003-11-01T00:00:00\", \"price\": 53.97}, {\"symbol\": \"AMZN\", \"date\": \"2003-12-01T00:00:00\", \"price\": 52.62}, {\"symbol\": \"AMZN\", \"date\": \"2004-01-01T00:00:00\", \"price\": 50.4}, {\"symbol\": \"AMZN\", \"date\": \"2004-02-01T00:00:00\", \"price\": 43.01}, {\"symbol\": \"AMZN\", \"date\": \"2004-03-01T00:00:00\", \"price\": 43.28}, {\"symbol\": \"AMZN\", \"date\": \"2004-04-01T00:00:00\", \"price\": 43.6}, {\"symbol\": \"AMZN\", \"date\": \"2004-05-01T00:00:00\", \"price\": 48.5}, {\"symbol\": \"AMZN\", \"date\": \"2004-06-01T00:00:00\", \"price\": 54.4}, {\"symbol\": \"AMZN\", \"date\": \"2004-07-01T00:00:00\", \"price\": 38.92}, {\"symbol\": \"AMZN\", \"date\": \"2004-08-01T00:00:00\", \"price\": 38.14}, {\"symbol\": \"AMZN\", \"date\": \"2004-09-01T00:00:00\", \"price\": 40.86}, {\"symbol\": \"AMZN\", \"date\": \"2004-10-01T00:00:00\", \"price\": 34.13}, {\"symbol\": \"AMZN\", \"date\": \"2004-11-01T00:00:00\", \"price\": 39.68}, {\"symbol\": \"AMZN\", \"date\": \"2004-12-01T00:00:00\", \"price\": 44.29}, {\"symbol\": \"AMZN\", \"date\": \"2005-01-01T00:00:00\", \"price\": 43.22}, {\"symbol\": \"AMZN\", \"date\": \"2005-02-01T00:00:00\", \"price\": 35.18}, {\"symbol\": \"AMZN\", \"date\": \"2005-03-01T00:00:00\", \"price\": 34.27}, {\"symbol\": \"AMZN\", \"date\": \"2005-04-01T00:00:00\", \"price\": 32.36}, {\"symbol\": \"AMZN\", \"date\": \"2005-05-01T00:00:00\", \"price\": 35.51}, {\"symbol\": \"AMZN\", \"date\": \"2005-06-01T00:00:00\", \"price\": 33.09}, {\"symbol\": \"AMZN\", \"date\": \"2005-07-01T00:00:00\", \"price\": 45.15}, {\"symbol\": \"AMZN\", \"date\": \"2005-08-01T00:00:00\", \"price\": 42.7}, {\"symbol\": \"AMZN\", \"date\": \"2005-09-01T00:00:00\", \"price\": 45.3}, {\"symbol\": \"AMZN\", \"date\": \"2005-10-01T00:00:00\", \"price\": 39.86}, {\"symbol\": \"AMZN\", \"date\": \"2005-11-01T00:00:00\", \"price\": 48.46}, {\"symbol\": \"AMZN\", \"date\": \"2005-12-01T00:00:00\", \"price\": 47.15}, {\"symbol\": \"AMZN\", \"date\": \"2006-01-01T00:00:00\", \"price\": 44.82}, {\"symbol\": \"AMZN\", \"date\": \"2006-02-01T00:00:00\", \"price\": 37.44}, {\"symbol\": \"AMZN\", \"date\": \"2006-03-01T00:00:00\", \"price\": 36.53}, {\"symbol\": \"AMZN\", \"date\": \"2006-04-01T00:00:00\", \"price\": 35.21}, {\"symbol\": \"AMZN\", \"date\": \"2006-05-01T00:00:00\", \"price\": 34.61}, {\"symbol\": \"AMZN\", \"date\": \"2006-06-01T00:00:00\", \"price\": 38.68}, {\"symbol\": \"AMZN\", \"date\": \"2006-07-01T00:00:00\", \"price\": 26.89}, {\"symbol\": \"AMZN\", \"date\": \"2006-08-01T00:00:00\", \"price\": 30.83}, {\"symbol\": \"AMZN\", \"date\": \"2006-09-01T00:00:00\", \"price\": 32.12}, {\"symbol\": \"AMZN\", \"date\": \"2006-10-01T00:00:00\", \"price\": 38.09}, {\"symbol\": \"AMZN\", \"date\": \"2006-11-01T00:00:00\", \"price\": 40.34}, {\"symbol\": \"AMZN\", \"date\": \"2006-12-01T00:00:00\", \"price\": 39.46}, {\"symbol\": \"AMZN\", \"date\": \"2007-01-01T00:00:00\", \"price\": 37.67}, {\"symbol\": \"AMZN\", \"date\": \"2007-02-01T00:00:00\", \"price\": 39.14}, {\"symbol\": \"AMZN\", \"date\": \"2007-03-01T00:00:00\", \"price\": 39.79}, {\"symbol\": \"AMZN\", \"date\": \"2007-04-01T00:00:00\", \"price\": 61.33}, {\"symbol\": \"AMZN\", \"date\": \"2007-05-01T00:00:00\", \"price\": 69.14}, {\"symbol\": \"AMZN\", \"date\": \"2007-06-01T00:00:00\", \"price\": 68.41}, {\"symbol\": \"AMZN\", \"date\": \"2007-07-01T00:00:00\", \"price\": 78.54}, {\"symbol\": \"AMZN\", \"date\": \"2007-08-01T00:00:00\", \"price\": 79.91}, {\"symbol\": \"AMZN\", \"date\": \"2007-09-01T00:00:00\", \"price\": 93.15}, {\"symbol\": \"AMZN\", \"date\": \"2007-10-01T00:00:00\", \"price\": 89.15}, {\"symbol\": \"AMZN\", \"date\": \"2007-11-01T00:00:00\", \"price\": 90.56}, {\"symbol\": \"AMZN\", \"date\": \"2007-12-01T00:00:00\", \"price\": 92.64}, {\"symbol\": \"AMZN\", \"date\": \"2008-01-01T00:00:00\", \"price\": 77.7}, {\"symbol\": \"AMZN\", \"date\": \"2008-02-01T00:00:00\", \"price\": 64.47}, {\"symbol\": \"AMZN\", \"date\": \"2008-03-01T00:00:00\", \"price\": 71.3}, {\"symbol\": \"AMZN\", \"date\": \"2008-04-01T00:00:00\", \"price\": 78.63}, {\"symbol\": \"AMZN\", \"date\": \"2008-05-01T00:00:00\", \"price\": 81.62}, {\"symbol\": \"AMZN\", \"date\": \"2008-06-01T00:00:00\", \"price\": 73.33}, {\"symbol\": \"AMZN\", \"date\": \"2008-07-01T00:00:00\", \"price\": 76.34}, {\"symbol\": \"AMZN\", \"date\": \"2008-08-01T00:00:00\", \"price\": 80.81}, {\"symbol\": \"AMZN\", \"date\": \"2008-09-01T00:00:00\", \"price\": 72.76}, {\"symbol\": \"AMZN\", \"date\": \"2008-10-01T00:00:00\", \"price\": 57.24}, {\"symbol\": \"AMZN\", \"date\": \"2008-11-01T00:00:00\", \"price\": 42.7}, {\"symbol\": \"AMZN\", \"date\": \"2008-12-01T00:00:00\", \"price\": 51.28}, {\"symbol\": \"AMZN\", \"date\": \"2009-01-01T00:00:00\", \"price\": 58.82}, {\"symbol\": \"AMZN\", \"date\": \"2009-02-01T00:00:00\", \"price\": 64.79}, {\"symbol\": \"AMZN\", \"date\": \"2009-03-01T00:00:00\", \"price\": 73.44}, {\"symbol\": \"AMZN\", \"date\": \"2009-04-01T00:00:00\", \"price\": 80.52}, {\"symbol\": \"AMZN\", \"date\": \"2009-05-01T00:00:00\", \"price\": 77.99}, {\"symbol\": \"AMZN\", \"date\": \"2009-06-01T00:00:00\", \"price\": 83.66}, {\"symbol\": \"AMZN\", \"date\": \"2009-07-01T00:00:00\", \"price\": 85.76}, {\"symbol\": \"AMZN\", \"date\": \"2009-08-01T00:00:00\", \"price\": 81.19}, {\"symbol\": \"AMZN\", \"date\": \"2009-09-01T00:00:00\", \"price\": 93.36}, {\"symbol\": \"AMZN\", \"date\": \"2009-10-01T00:00:00\", \"price\": 118.81}, {\"symbol\": \"AMZN\", \"date\": \"2009-11-01T00:00:00\", \"price\": 135.91}, {\"symbol\": \"AMZN\", \"date\": \"2009-12-01T00:00:00\", \"price\": 134.52}, {\"symbol\": \"AMZN\", \"date\": \"2010-01-01T00:00:00\", \"price\": 125.41}, {\"symbol\": \"AMZN\", \"date\": \"2010-02-01T00:00:00\", \"price\": 118.4}, {\"symbol\": \"AMZN\", \"date\": \"2010-03-01T00:00:00\", \"price\": 128.82}, {\"symbol\": \"IBM\", \"date\": \"2000-01-01T00:00:00\", \"price\": 100.52}, {\"symbol\": \"IBM\", \"date\": \"2000-02-01T00:00:00\", \"price\": 92.11}, {\"symbol\": \"IBM\", \"date\": \"2000-03-01T00:00:00\", \"price\": 106.11}, {\"symbol\": \"IBM\", \"date\": \"2000-04-01T00:00:00\", \"price\": 99.95}, {\"symbol\": \"IBM\", \"date\": \"2000-05-01T00:00:00\", \"price\": 96.31}, {\"symbol\": \"IBM\", \"date\": \"2000-06-01T00:00:00\", \"price\": 98.33}, {\"symbol\": \"IBM\", \"date\": \"2000-07-01T00:00:00\", \"price\": 100.74}, {\"symbol\": \"IBM\", \"date\": \"2000-08-01T00:00:00\", \"price\": 118.62}, {\"symbol\": \"IBM\", \"date\": \"2000-09-01T00:00:00\", \"price\": 101.19}, {\"symbol\": \"IBM\", \"date\": \"2000-10-01T00:00:00\", \"price\": 88.5}, {\"symbol\": \"IBM\", \"date\": \"2000-11-01T00:00:00\", \"price\": 84.12}, {\"symbol\": \"IBM\", \"date\": \"2000-12-01T00:00:00\", \"price\": 76.47}, {\"symbol\": \"IBM\", \"date\": \"2001-01-01T00:00:00\", \"price\": 100.76}, {\"symbol\": \"IBM\", \"date\": \"2001-02-01T00:00:00\", \"price\": 89.98}, {\"symbol\": \"IBM\", \"date\": \"2001-03-01T00:00:00\", \"price\": 86.63}, {\"symbol\": \"IBM\", \"date\": \"2001-04-01T00:00:00\", \"price\": 103.7}, {\"symbol\": \"IBM\", \"date\": \"2001-05-01T00:00:00\", \"price\": 100.82}, {\"symbol\": \"IBM\", \"date\": \"2001-06-01T00:00:00\", \"price\": 102.35}, {\"symbol\": \"IBM\", \"date\": \"2001-07-01T00:00:00\", \"price\": 94.87}, {\"symbol\": \"IBM\", \"date\": \"2001-08-01T00:00:00\", \"price\": 90.25}, {\"symbol\": \"IBM\", \"date\": \"2001-09-01T00:00:00\", \"price\": 82.82}, {\"symbol\": \"IBM\", \"date\": \"2001-10-01T00:00:00\", \"price\": 97.58}, {\"symbol\": \"IBM\", \"date\": \"2001-11-01T00:00:00\", \"price\": 104.5}, {\"symbol\": \"IBM\", \"date\": \"2001-12-01T00:00:00\", \"price\": 109.36}, {\"symbol\": \"IBM\", \"date\": \"2002-01-01T00:00:00\", \"price\": 97.54}, {\"symbol\": \"IBM\", \"date\": \"2002-02-01T00:00:00\", \"price\": 88.82}, {\"symbol\": \"IBM\", \"date\": \"2002-03-01T00:00:00\", \"price\": 94.15}, {\"symbol\": \"IBM\", \"date\": \"2002-04-01T00:00:00\", \"price\": 75.82}, {\"symbol\": \"IBM\", \"date\": \"2002-05-01T00:00:00\", \"price\": 72.97}, {\"symbol\": \"IBM\", \"date\": \"2002-06-01T00:00:00\", \"price\": 65.31}, {\"symbol\": \"IBM\", \"date\": \"2002-07-01T00:00:00\", \"price\": 63.86}, {\"symbol\": \"IBM\", \"date\": \"2002-08-01T00:00:00\", \"price\": 68.52}, {\"symbol\": \"IBM\", \"date\": \"2002-09-01T00:00:00\", \"price\": 53.01}, {\"symbol\": \"IBM\", \"date\": \"2002-10-01T00:00:00\", \"price\": 71.76}, {\"symbol\": \"IBM\", \"date\": \"2002-11-01T00:00:00\", \"price\": 79.16}, {\"symbol\": \"IBM\", \"date\": \"2002-12-01T00:00:00\", \"price\": 70.58}, {\"symbol\": \"IBM\", \"date\": \"2003-01-01T00:00:00\", \"price\": 71.22}, {\"symbol\": \"IBM\", \"date\": \"2003-02-01T00:00:00\", \"price\": 71.13}, {\"symbol\": \"IBM\", \"date\": \"2003-03-01T00:00:00\", \"price\": 71.57}, {\"symbol\": \"IBM\", \"date\": \"2003-04-01T00:00:00\", \"price\": 77.47}, {\"symbol\": \"IBM\", \"date\": \"2003-05-01T00:00:00\", \"price\": 80.48}, {\"symbol\": \"IBM\", \"date\": \"2003-06-01T00:00:00\", \"price\": 75.42}, {\"symbol\": \"IBM\", \"date\": \"2003-07-01T00:00:00\", \"price\": 74.28}, {\"symbol\": \"IBM\", \"date\": \"2003-08-01T00:00:00\", \"price\": 75.12}, {\"symbol\": \"IBM\", \"date\": \"2003-09-01T00:00:00\", \"price\": 80.91}, {\"symbol\": \"IBM\", \"date\": \"2003-10-01T00:00:00\", \"price\": 81.96}, {\"symbol\": \"IBM\", \"date\": \"2003-11-01T00:00:00\", \"price\": 83.08}, {\"symbol\": \"IBM\", \"date\": \"2003-12-01T00:00:00\", \"price\": 85.05}, {\"symbol\": \"IBM\", \"date\": \"2004-01-01T00:00:00\", \"price\": 91.06}, {\"symbol\": \"IBM\", \"date\": \"2004-02-01T00:00:00\", \"price\": 88.7}, {\"symbol\": \"IBM\", \"date\": \"2004-03-01T00:00:00\", \"price\": 84.41}, {\"symbol\": \"IBM\", \"date\": \"2004-04-01T00:00:00\", \"price\": 81.04}, {\"symbol\": \"IBM\", \"date\": \"2004-05-01T00:00:00\", \"price\": 81.59}, {\"symbol\": \"IBM\", \"date\": \"2004-06-01T00:00:00\", \"price\": 81.19}, {\"symbol\": \"IBM\", \"date\": \"2004-07-01T00:00:00\", \"price\": 80.19}, {\"symbol\": \"IBM\", \"date\": \"2004-08-01T00:00:00\", \"price\": 78.17}, {\"symbol\": \"IBM\", \"date\": \"2004-09-01T00:00:00\", \"price\": 79.13}, {\"symbol\": \"IBM\", \"date\": \"2004-10-01T00:00:00\", \"price\": 82.84}, {\"symbol\": \"IBM\", \"date\": \"2004-11-01T00:00:00\", \"price\": 87.15}, {\"symbol\": \"IBM\", \"date\": \"2004-12-01T00:00:00\", \"price\": 91.16}, {\"symbol\": \"IBM\", \"date\": \"2005-01-01T00:00:00\", \"price\": 86.39}, {\"symbol\": \"IBM\", \"date\": \"2005-02-01T00:00:00\", \"price\": 85.78}, {\"symbol\": \"IBM\", \"date\": \"2005-03-01T00:00:00\", \"price\": 84.66}, {\"symbol\": \"IBM\", \"date\": \"2005-04-01T00:00:00\", \"price\": 70.77}, {\"symbol\": \"IBM\", \"date\": \"2005-05-01T00:00:00\", \"price\": 70.18}, {\"symbol\": \"IBM\", \"date\": \"2005-06-01T00:00:00\", \"price\": 68.93}, {\"symbol\": \"IBM\", \"date\": \"2005-07-01T00:00:00\", \"price\": 77.53}, {\"symbol\": \"IBM\", \"date\": \"2005-08-01T00:00:00\", \"price\": 75.07}, {\"symbol\": \"IBM\", \"date\": \"2005-09-01T00:00:00\", \"price\": 74.7}, {\"symbol\": \"IBM\", \"date\": \"2005-10-01T00:00:00\", \"price\": 76.25}, {\"symbol\": \"IBM\", \"date\": \"2005-11-01T00:00:00\", \"price\": 82.98}, {\"symbol\": \"IBM\", \"date\": \"2005-12-01T00:00:00\", \"price\": 76.73}, {\"symbol\": \"IBM\", \"date\": \"2006-01-01T00:00:00\", \"price\": 75.89}, {\"symbol\": \"IBM\", \"date\": \"2006-02-01T00:00:00\", \"price\": 75.09}, {\"symbol\": \"IBM\", \"date\": \"2006-03-01T00:00:00\", \"price\": 77.17}, {\"symbol\": \"IBM\", \"date\": \"2006-04-01T00:00:00\", \"price\": 77.05}, {\"symbol\": \"IBM\", \"date\": \"2006-05-01T00:00:00\", \"price\": 75.04}, {\"symbol\": \"IBM\", \"date\": \"2006-06-01T00:00:00\", \"price\": 72.15}, {\"symbol\": \"IBM\", \"date\": \"2006-07-01T00:00:00\", \"price\": 72.7}, {\"symbol\": \"IBM\", \"date\": \"2006-08-01T00:00:00\", \"price\": 76.35}, {\"symbol\": \"IBM\", \"date\": \"2006-09-01T00:00:00\", \"price\": 77.26}, {\"symbol\": \"IBM\", \"date\": \"2006-10-01T00:00:00\", \"price\": 87.06}, {\"symbol\": \"IBM\", \"date\": \"2006-11-01T00:00:00\", \"price\": 86.95}, {\"symbol\": \"IBM\", \"date\": \"2006-12-01T00:00:00\", \"price\": 91.9}, {\"symbol\": \"IBM\", \"date\": \"2007-01-01T00:00:00\", \"price\": 93.79}, {\"symbol\": \"IBM\", \"date\": \"2007-02-01T00:00:00\", \"price\": 88.18}, {\"symbol\": \"IBM\", \"date\": \"2007-03-01T00:00:00\", \"price\": 89.44}, {\"symbol\": \"IBM\", \"date\": \"2007-04-01T00:00:00\", \"price\": 96.98}, {\"symbol\": \"IBM\", \"date\": \"2007-05-01T00:00:00\", \"price\": 101.54}, {\"symbol\": \"IBM\", \"date\": \"2007-06-01T00:00:00\", \"price\": 100.25}, {\"symbol\": \"IBM\", \"date\": \"2007-07-01T00:00:00\", \"price\": 105.4}, {\"symbol\": \"IBM\", \"date\": \"2007-08-01T00:00:00\", \"price\": 111.54}, {\"symbol\": \"IBM\", \"date\": \"2007-09-01T00:00:00\", \"price\": 112.6}, {\"symbol\": \"IBM\", \"date\": \"2007-10-01T00:00:00\", \"price\": 111.0}, {\"symbol\": \"IBM\", \"date\": \"2007-11-01T00:00:00\", \"price\": 100.9}, {\"symbol\": \"IBM\", \"date\": \"2007-12-01T00:00:00\", \"price\": 103.7}, {\"symbol\": \"IBM\", \"date\": \"2008-01-01T00:00:00\", \"price\": 102.75}, {\"symbol\": \"IBM\", \"date\": \"2008-02-01T00:00:00\", \"price\": 109.64}, {\"symbol\": \"IBM\", \"date\": \"2008-03-01T00:00:00\", \"price\": 110.87}, {\"symbol\": \"IBM\", \"date\": \"2008-04-01T00:00:00\", \"price\": 116.23}, {\"symbol\": \"IBM\", \"date\": \"2008-05-01T00:00:00\", \"price\": 125.14}, {\"symbol\": \"IBM\", \"date\": \"2008-06-01T00:00:00\", \"price\": 114.6}, {\"symbol\": \"IBM\", \"date\": \"2008-07-01T00:00:00\", \"price\": 123.74}, {\"symbol\": \"IBM\", \"date\": \"2008-08-01T00:00:00\", \"price\": 118.16}, {\"symbol\": \"IBM\", \"date\": \"2008-09-01T00:00:00\", \"price\": 113.53}, {\"symbol\": \"IBM\", \"date\": \"2008-10-01T00:00:00\", \"price\": 90.24}, {\"symbol\": \"IBM\", \"date\": \"2008-11-01T00:00:00\", \"price\": 79.65}, {\"symbol\": \"IBM\", \"date\": \"2008-12-01T00:00:00\", \"price\": 82.15}, {\"symbol\": \"IBM\", \"date\": \"2009-01-01T00:00:00\", \"price\": 89.46}, {\"symbol\": \"IBM\", \"date\": \"2009-02-01T00:00:00\", \"price\": 90.32}, {\"symbol\": \"IBM\", \"date\": \"2009-03-01T00:00:00\", \"price\": 95.09}, {\"symbol\": \"IBM\", \"date\": \"2009-04-01T00:00:00\", \"price\": 101.29}, {\"symbol\": \"IBM\", \"date\": \"2009-05-01T00:00:00\", \"price\": 104.85}, {\"symbol\": \"IBM\", \"date\": \"2009-06-01T00:00:00\", \"price\": 103.01}, {\"symbol\": \"IBM\", \"date\": \"2009-07-01T00:00:00\", \"price\": 116.34}, {\"symbol\": \"IBM\", \"date\": \"2009-08-01T00:00:00\", \"price\": 117.0}, {\"symbol\": \"IBM\", \"date\": \"2009-09-01T00:00:00\", \"price\": 118.55}, {\"symbol\": \"IBM\", \"date\": \"2009-10-01T00:00:00\", \"price\": 119.54}, {\"symbol\": \"IBM\", \"date\": \"2009-11-01T00:00:00\", \"price\": 125.79}, {\"symbol\": \"IBM\", \"date\": \"2009-12-01T00:00:00\", \"price\": 130.32}, {\"symbol\": \"IBM\", \"date\": \"2010-01-01T00:00:00\", \"price\": 121.85}, {\"symbol\": \"IBM\", \"date\": \"2010-02-01T00:00:00\", \"price\": 127.16}, {\"symbol\": \"IBM\", \"date\": \"2010-03-01T00:00:00\", \"price\": 125.55}, {\"symbol\": \"GOOG\", \"date\": \"2004-08-01T00:00:00\", \"price\": 102.37}, {\"symbol\": \"GOOG\", \"date\": \"2004-09-01T00:00:00\", \"price\": 129.6}, {\"symbol\": \"GOOG\", \"date\": \"2004-10-01T00:00:00\", \"price\": 190.64}, {\"symbol\": \"GOOG\", \"date\": \"2004-11-01T00:00:00\", \"price\": 181.98}, {\"symbol\": \"GOOG\", \"date\": \"2004-12-01T00:00:00\", \"price\": 192.79}, {\"symbol\": \"GOOG\", \"date\": \"2005-01-01T00:00:00\", \"price\": 195.62}, {\"symbol\": \"GOOG\", \"date\": \"2005-02-01T00:00:00\", \"price\": 187.99}, {\"symbol\": \"GOOG\", \"date\": \"2005-03-01T00:00:00\", \"price\": 180.51}, {\"symbol\": \"GOOG\", \"date\": \"2005-04-01T00:00:00\", \"price\": 220.0}, {\"symbol\": \"GOOG\", \"date\": \"2005-05-01T00:00:00\", \"price\": 277.27}, {\"symbol\": \"GOOG\", \"date\": \"2005-06-01T00:00:00\", \"price\": 294.15}, {\"symbol\": \"GOOG\", \"date\": \"2005-07-01T00:00:00\", \"price\": 287.76}, {\"symbol\": \"GOOG\", \"date\": \"2005-08-01T00:00:00\", \"price\": 286.0}, {\"symbol\": \"GOOG\", \"date\": \"2005-09-01T00:00:00\", \"price\": 316.46}, {\"symbol\": \"GOOG\", \"date\": \"2005-10-01T00:00:00\", \"price\": 372.14}, {\"symbol\": \"GOOG\", \"date\": \"2005-11-01T00:00:00\", \"price\": 404.91}, {\"symbol\": \"GOOG\", \"date\": \"2005-12-01T00:00:00\", \"price\": 414.86}, {\"symbol\": \"GOOG\", \"date\": \"2006-01-01T00:00:00\", \"price\": 432.66}, {\"symbol\": \"GOOG\", \"date\": \"2006-02-01T00:00:00\", \"price\": 362.62}, {\"symbol\": \"GOOG\", \"date\": \"2006-03-01T00:00:00\", \"price\": 390.0}, {\"symbol\": \"GOOG\", \"date\": \"2006-04-01T00:00:00\", \"price\": 417.94}, {\"symbol\": \"GOOG\", \"date\": \"2006-05-01T00:00:00\", \"price\": 371.82}, {\"symbol\": \"GOOG\", \"date\": \"2006-06-01T00:00:00\", \"price\": 419.33}, {\"symbol\": \"GOOG\", \"date\": \"2006-07-01T00:00:00\", \"price\": 386.6}, {\"symbol\": \"GOOG\", \"date\": \"2006-08-01T00:00:00\", \"price\": 378.53}, {\"symbol\": \"GOOG\", \"date\": \"2006-09-01T00:00:00\", \"price\": 401.9}, {\"symbol\": \"GOOG\", \"date\": \"2006-10-01T00:00:00\", \"price\": 476.39}, {\"symbol\": \"GOOG\", \"date\": \"2006-11-01T00:00:00\", \"price\": 484.81}, {\"symbol\": \"GOOG\", \"date\": \"2006-12-01T00:00:00\", \"price\": 460.48}, {\"symbol\": \"GOOG\", \"date\": \"2007-01-01T00:00:00\", \"price\": 501.5}, {\"symbol\": \"GOOG\", \"date\": \"2007-02-01T00:00:00\", \"price\": 449.45}, {\"symbol\": \"GOOG\", \"date\": \"2007-03-01T00:00:00\", \"price\": 458.16}, {\"symbol\": \"GOOG\", \"date\": \"2007-04-01T00:00:00\", \"price\": 471.38}, {\"symbol\": \"GOOG\", \"date\": \"2007-05-01T00:00:00\", \"price\": 497.91}, {\"symbol\": \"GOOG\", \"date\": \"2007-06-01T00:00:00\", \"price\": 522.7}, {\"symbol\": \"GOOG\", \"date\": \"2007-07-01T00:00:00\", \"price\": 510.0}, {\"symbol\": \"GOOG\", \"date\": \"2007-08-01T00:00:00\", \"price\": 515.25}, {\"symbol\": \"GOOG\", \"date\": \"2007-09-01T00:00:00\", \"price\": 567.27}, {\"symbol\": \"GOOG\", \"date\": \"2007-10-01T00:00:00\", \"price\": 707.0}, {\"symbol\": \"GOOG\", \"date\": \"2007-11-01T00:00:00\", \"price\": 693.0}, {\"symbol\": \"GOOG\", \"date\": \"2007-12-01T00:00:00\", \"price\": 691.48}, {\"symbol\": \"GOOG\", \"date\": \"2008-01-01T00:00:00\", \"price\": 564.3}, {\"symbol\": \"GOOG\", \"date\": \"2008-02-01T00:00:00\", \"price\": 471.18}, {\"symbol\": \"GOOG\", \"date\": \"2008-03-01T00:00:00\", \"price\": 440.47}, {\"symbol\": \"GOOG\", \"date\": \"2008-04-01T00:00:00\", \"price\": 574.29}, {\"symbol\": \"GOOG\", \"date\": \"2008-05-01T00:00:00\", \"price\": 585.8}, {\"symbol\": \"GOOG\", \"date\": \"2008-06-01T00:00:00\", \"price\": 526.42}, {\"symbol\": \"GOOG\", \"date\": \"2008-07-01T00:00:00\", \"price\": 473.75}, {\"symbol\": \"GOOG\", \"date\": \"2008-08-01T00:00:00\", \"price\": 463.29}, {\"symbol\": \"GOOG\", \"date\": \"2008-09-01T00:00:00\", \"price\": 400.52}, {\"symbol\": \"GOOG\", \"date\": \"2008-10-01T00:00:00\", \"price\": 359.36}, {\"symbol\": \"GOOG\", \"date\": \"2008-11-01T00:00:00\", \"price\": 292.96}, {\"symbol\": \"GOOG\", \"date\": \"2008-12-01T00:00:00\", \"price\": 307.65}, {\"symbol\": \"GOOG\", \"date\": \"2009-01-01T00:00:00\", \"price\": 338.53}, {\"symbol\": \"GOOG\", \"date\": \"2009-02-01T00:00:00\", \"price\": 337.99}, {\"symbol\": \"GOOG\", \"date\": \"2009-03-01T00:00:00\", \"price\": 348.06}, {\"symbol\": \"GOOG\", \"date\": \"2009-04-01T00:00:00\", \"price\": 395.97}, {\"symbol\": \"GOOG\", \"date\": \"2009-05-01T00:00:00\", \"price\": 417.23}, {\"symbol\": \"GOOG\", \"date\": \"2009-06-01T00:00:00\", \"price\": 421.59}, {\"symbol\": \"GOOG\", \"date\": \"2009-07-01T00:00:00\", \"price\": 443.05}, {\"symbol\": \"GOOG\", \"date\": \"2009-08-01T00:00:00\", \"price\": 461.67}, {\"symbol\": \"GOOG\", \"date\": \"2009-09-01T00:00:00\", \"price\": 495.85}, {\"symbol\": \"GOOG\", \"date\": \"2009-10-01T00:00:00\", \"price\": 536.12}, {\"symbol\": \"GOOG\", \"date\": \"2009-11-01T00:00:00\", \"price\": 583.0}, {\"symbol\": \"GOOG\", \"date\": \"2009-12-01T00:00:00\", \"price\": 619.98}, {\"symbol\": \"GOOG\", \"date\": \"2010-01-01T00:00:00\", \"price\": 529.94}, {\"symbol\": \"GOOG\", \"date\": \"2010-02-01T00:00:00\", \"price\": 526.8}, {\"symbol\": \"GOOG\", \"date\": \"2010-03-01T00:00:00\", \"price\": 560.19}, {\"symbol\": \"AAPL\", \"date\": \"2000-01-01T00:00:00\", \"price\": 25.94}, {\"symbol\": \"AAPL\", \"date\": \"2000-02-01T00:00:00\", \"price\": 28.66}, {\"symbol\": \"AAPL\", \"date\": \"2000-03-01T00:00:00\", \"price\": 33.95}, {\"symbol\": \"AAPL\", \"date\": \"2000-04-01T00:00:00\", \"price\": 31.01}, {\"symbol\": \"AAPL\", \"date\": \"2000-05-01T00:00:00\", \"price\": 21.0}, {\"symbol\": \"AAPL\", \"date\": \"2000-06-01T00:00:00\", \"price\": 26.19}, {\"symbol\": \"AAPL\", \"date\": \"2000-07-01T00:00:00\", \"price\": 25.41}, {\"symbol\": \"AAPL\", \"date\": \"2000-08-01T00:00:00\", \"price\": 30.47}, {\"symbol\": \"AAPL\", \"date\": \"2000-09-01T00:00:00\", \"price\": 12.88}, {\"symbol\": \"AAPL\", \"date\": \"2000-10-01T00:00:00\", \"price\": 9.78}, {\"symbol\": \"AAPL\", \"date\": \"2000-11-01T00:00:00\", \"price\": 8.25}, {\"symbol\": \"AAPL\", \"date\": \"2000-12-01T00:00:00\", \"price\": 7.44}, {\"symbol\": \"AAPL\", \"date\": \"2001-01-01T00:00:00\", \"price\": 10.81}, {\"symbol\": \"AAPL\", \"date\": \"2001-02-01T00:00:00\", \"price\": 9.12}, {\"symbol\": \"AAPL\", \"date\": \"2001-03-01T00:00:00\", \"price\": 11.03}, {\"symbol\": \"AAPL\", \"date\": \"2001-04-01T00:00:00\", \"price\": 12.74}, {\"symbol\": \"AAPL\", \"date\": \"2001-05-01T00:00:00\", \"price\": 9.98}, {\"symbol\": \"AAPL\", \"date\": \"2001-06-01T00:00:00\", \"price\": 11.62}, {\"symbol\": \"AAPL\", \"date\": \"2001-07-01T00:00:00\", \"price\": 9.4}, {\"symbol\": \"AAPL\", \"date\": \"2001-08-01T00:00:00\", \"price\": 9.27}, {\"symbol\": \"AAPL\", \"date\": \"2001-09-01T00:00:00\", \"price\": 7.76}, {\"symbol\": \"AAPL\", \"date\": \"2001-10-01T00:00:00\", \"price\": 8.78}, {\"symbol\": \"AAPL\", \"date\": \"2001-11-01T00:00:00\", \"price\": 10.65}, {\"symbol\": \"AAPL\", \"date\": \"2001-12-01T00:00:00\", \"price\": 10.95}, {\"symbol\": \"AAPL\", \"date\": \"2002-01-01T00:00:00\", \"price\": 12.36}, {\"symbol\": \"AAPL\", \"date\": \"2002-02-01T00:00:00\", \"price\": 10.85}, {\"symbol\": \"AAPL\", \"date\": \"2002-03-01T00:00:00\", \"price\": 11.84}, {\"symbol\": \"AAPL\", \"date\": \"2002-04-01T00:00:00\", \"price\": 12.14}, {\"symbol\": \"AAPL\", \"date\": \"2002-05-01T00:00:00\", \"price\": 11.65}, {\"symbol\": \"AAPL\", \"date\": \"2002-06-01T00:00:00\", \"price\": 8.86}, {\"symbol\": \"AAPL\", \"date\": \"2002-07-01T00:00:00\", \"price\": 7.63}, {\"symbol\": \"AAPL\", \"date\": \"2002-08-01T00:00:00\", \"price\": 7.38}, {\"symbol\": \"AAPL\", \"date\": \"2002-09-01T00:00:00\", \"price\": 7.25}, {\"symbol\": \"AAPL\", \"date\": \"2002-10-01T00:00:00\", \"price\": 8.03}, {\"symbol\": \"AAPL\", \"date\": \"2002-11-01T00:00:00\", \"price\": 7.75}, {\"symbol\": \"AAPL\", \"date\": \"2002-12-01T00:00:00\", \"price\": 7.16}, {\"symbol\": \"AAPL\", \"date\": \"2003-01-01T00:00:00\", \"price\": 7.18}, {\"symbol\": \"AAPL\", \"date\": \"2003-02-01T00:00:00\", \"price\": 7.51}, {\"symbol\": \"AAPL\", \"date\": \"2003-03-01T00:00:00\", \"price\": 7.07}, {\"symbol\": \"AAPL\", \"date\": \"2003-04-01T00:00:00\", \"price\": 7.11}, {\"symbol\": \"AAPL\", \"date\": \"2003-05-01T00:00:00\", \"price\": 8.98}, {\"symbol\": \"AAPL\", \"date\": \"2003-06-01T00:00:00\", \"price\": 9.53}, {\"symbol\": \"AAPL\", \"date\": \"2003-07-01T00:00:00\", \"price\": 10.54}, {\"symbol\": \"AAPL\", \"date\": \"2003-08-01T00:00:00\", \"price\": 11.31}, {\"symbol\": \"AAPL\", \"date\": \"2003-09-01T00:00:00\", \"price\": 10.36}, {\"symbol\": \"AAPL\", \"date\": \"2003-10-01T00:00:00\", \"price\": 11.44}, {\"symbol\": \"AAPL\", \"date\": \"2003-11-01T00:00:00\", \"price\": 10.45}, {\"symbol\": \"AAPL\", \"date\": \"2003-12-01T00:00:00\", \"price\": 10.69}, {\"symbol\": \"AAPL\", \"date\": \"2004-01-01T00:00:00\", \"price\": 11.28}, {\"symbol\": \"AAPL\", \"date\": \"2004-02-01T00:00:00\", \"price\": 11.96}, {\"symbol\": \"AAPL\", \"date\": \"2004-03-01T00:00:00\", \"price\": 13.52}, {\"symbol\": \"AAPL\", \"date\": \"2004-04-01T00:00:00\", \"price\": 12.89}, {\"symbol\": \"AAPL\", \"date\": \"2004-05-01T00:00:00\", \"price\": 14.03}, {\"symbol\": \"AAPL\", \"date\": \"2004-06-01T00:00:00\", \"price\": 16.27}, {\"symbol\": \"AAPL\", \"date\": \"2004-07-01T00:00:00\", \"price\": 16.17}, {\"symbol\": \"AAPL\", \"date\": \"2004-08-01T00:00:00\", \"price\": 17.25}, {\"symbol\": \"AAPL\", \"date\": \"2004-09-01T00:00:00\", \"price\": 19.38}, {\"symbol\": \"AAPL\", \"date\": \"2004-10-01T00:00:00\", \"price\": 26.2}, {\"symbol\": \"AAPL\", \"date\": \"2004-11-01T00:00:00\", \"price\": 33.53}, {\"symbol\": \"AAPL\", \"date\": \"2004-12-01T00:00:00\", \"price\": 32.2}, {\"symbol\": \"AAPL\", \"date\": \"2005-01-01T00:00:00\", \"price\": 38.45}, {\"symbol\": \"AAPL\", \"date\": \"2005-02-01T00:00:00\", \"price\": 44.86}, {\"symbol\": \"AAPL\", \"date\": \"2005-03-01T00:00:00\", \"price\": 41.67}, {\"symbol\": \"AAPL\", \"date\": \"2005-04-01T00:00:00\", \"price\": 36.06}, {\"symbol\": \"AAPL\", \"date\": \"2005-05-01T00:00:00\", \"price\": 39.76}, {\"symbol\": \"AAPL\", \"date\": \"2005-06-01T00:00:00\", \"price\": 36.81}, {\"symbol\": \"AAPL\", \"date\": \"2005-07-01T00:00:00\", \"price\": 42.65}, {\"symbol\": \"AAPL\", \"date\": \"2005-08-01T00:00:00\", \"price\": 46.89}, {\"symbol\": \"AAPL\", \"date\": \"2005-09-01T00:00:00\", \"price\": 53.61}, {\"symbol\": \"AAPL\", \"date\": \"2005-10-01T00:00:00\", \"price\": 57.59}, {\"symbol\": \"AAPL\", \"date\": \"2005-11-01T00:00:00\", \"price\": 67.82}, {\"symbol\": \"AAPL\", \"date\": \"2005-12-01T00:00:00\", \"price\": 71.89}, {\"symbol\": \"AAPL\", \"date\": \"2006-01-01T00:00:00\", \"price\": 75.51}, {\"symbol\": \"AAPL\", \"date\": \"2006-02-01T00:00:00\", \"price\": 68.49}, {\"symbol\": \"AAPL\", \"date\": \"2006-03-01T00:00:00\", \"price\": 62.72}, {\"symbol\": \"AAPL\", \"date\": \"2006-04-01T00:00:00\", \"price\": 70.39}, {\"symbol\": \"AAPL\", \"date\": \"2006-05-01T00:00:00\", \"price\": 59.77}, {\"symbol\": \"AAPL\", \"date\": \"2006-06-01T00:00:00\", \"price\": 57.27}, {\"symbol\": \"AAPL\", \"date\": \"2006-07-01T00:00:00\", \"price\": 67.96}, {\"symbol\": \"AAPL\", \"date\": \"2006-08-01T00:00:00\", \"price\": 67.85}, {\"symbol\": \"AAPL\", \"date\": \"2006-09-01T00:00:00\", \"price\": 76.98}, {\"symbol\": \"AAPL\", \"date\": \"2006-10-01T00:00:00\", \"price\": 81.08}, {\"symbol\": \"AAPL\", \"date\": \"2006-11-01T00:00:00\", \"price\": 91.66}, {\"symbol\": \"AAPL\", \"date\": \"2006-12-01T00:00:00\", \"price\": 84.84}, {\"symbol\": \"AAPL\", \"date\": \"2007-01-01T00:00:00\", \"price\": 85.73}, {\"symbol\": \"AAPL\", \"date\": \"2007-02-01T00:00:00\", \"price\": 84.61}, {\"symbol\": \"AAPL\", \"date\": \"2007-03-01T00:00:00\", \"price\": 92.91}, {\"symbol\": \"AAPL\", \"date\": \"2007-04-01T00:00:00\", \"price\": 99.8}, {\"symbol\": \"AAPL\", \"date\": \"2007-05-01T00:00:00\", \"price\": 121.19}, {\"symbol\": \"AAPL\", \"date\": \"2007-06-01T00:00:00\", \"price\": 122.04}, {\"symbol\": \"AAPL\", \"date\": \"2007-07-01T00:00:00\", \"price\": 131.76}, {\"symbol\": \"AAPL\", \"date\": \"2007-08-01T00:00:00\", \"price\": 138.48}, {\"symbol\": \"AAPL\", \"date\": \"2007-09-01T00:00:00\", \"price\": 153.47}, {\"symbol\": \"AAPL\", \"date\": \"2007-10-01T00:00:00\", \"price\": 189.95}, {\"symbol\": \"AAPL\", \"date\": \"2007-11-01T00:00:00\", \"price\": 182.22}, {\"symbol\": \"AAPL\", \"date\": \"2007-12-01T00:00:00\", \"price\": 198.08}, {\"symbol\": \"AAPL\", \"date\": \"2008-01-01T00:00:00\", \"price\": 135.36}, {\"symbol\": \"AAPL\", \"date\": \"2008-02-01T00:00:00\", \"price\": 125.02}, {\"symbol\": \"AAPL\", \"date\": \"2008-03-01T00:00:00\", \"price\": 143.5}, {\"symbol\": \"AAPL\", \"date\": \"2008-04-01T00:00:00\", \"price\": 173.95}, {\"symbol\": \"AAPL\", \"date\": \"2008-05-01T00:00:00\", \"price\": 188.75}, {\"symbol\": \"AAPL\", \"date\": \"2008-06-01T00:00:00\", \"price\": 167.44}, {\"symbol\": \"AAPL\", \"date\": \"2008-07-01T00:00:00\", \"price\": 158.95}, {\"symbol\": \"AAPL\", \"date\": \"2008-08-01T00:00:00\", \"price\": 169.53}, {\"symbol\": \"AAPL\", \"date\": \"2008-09-01T00:00:00\", \"price\": 113.66}, {\"symbol\": \"AAPL\", \"date\": \"2008-10-01T00:00:00\", \"price\": 107.59}, {\"symbol\": \"AAPL\", \"date\": \"2008-11-01T00:00:00\", \"price\": 92.67}, {\"symbol\": \"AAPL\", \"date\": \"2008-12-01T00:00:00\", \"price\": 85.35}, {\"symbol\": \"AAPL\", \"date\": \"2009-01-01T00:00:00\", \"price\": 90.13}, {\"symbol\": \"AAPL\", \"date\": \"2009-02-01T00:00:00\", \"price\": 89.31}, {\"symbol\": \"AAPL\", \"date\": \"2009-03-01T00:00:00\", \"price\": 105.12}, {\"symbol\": \"AAPL\", \"date\": \"2009-04-01T00:00:00\", \"price\": 125.83}, {\"symbol\": \"AAPL\", \"date\": \"2009-05-01T00:00:00\", \"price\": 135.81}, {\"symbol\": \"AAPL\", \"date\": \"2009-06-01T00:00:00\", \"price\": 142.43}, {\"symbol\": \"AAPL\", \"date\": \"2009-07-01T00:00:00\", \"price\": 163.39}, {\"symbol\": \"AAPL\", \"date\": \"2009-08-01T00:00:00\", \"price\": 168.21}, {\"symbol\": \"AAPL\", \"date\": \"2009-09-01T00:00:00\", \"price\": 185.35}, {\"symbol\": \"AAPL\", \"date\": \"2009-10-01T00:00:00\", \"price\": 188.5}, {\"symbol\": \"AAPL\", \"date\": \"2009-11-01T00:00:00\", \"price\": 199.91}, {\"symbol\": \"AAPL\", \"date\": \"2009-12-01T00:00:00\", \"price\": 210.73}, {\"symbol\": \"AAPL\", \"date\": \"2010-01-01T00:00:00\", \"price\": 192.06}, {\"symbol\": \"AAPL\", \"date\": \"2010-02-01T00:00:00\", \"price\": 204.62}, {\"symbol\": \"AAPL\", \"date\": \"2010-03-01T00:00:00\", \"price\": 223.02}]}}, {\"mode\": \"vega-lite\"});\n",
              "</script>"
            ]
          },
          "metadata": {
            "tags": []
          },
          "execution_count": 11
        }
      ]
    },
    {
      "cell_type": "code",
      "metadata": {
        "id": "4l0vPXJBN5yr",
        "colab_type": "code",
        "colab": {
          "base_uri": "https://localhost:8080/",
          "height": 404
        },
        "outputId": "278fa3ae-7424-4974-e6d9-fb658ab5bd3f"
      },
      "source": [
        "stocks"
      ],
      "execution_count": null,
      "outputs": [
        {
          "output_type": "display_data",
          "data": {
            "text/html": [
              "<script src='https://www.gstatic.com/external_hosted/mathjax/latest/MathJax.js?config=default'></script>"
            ],
            "text/plain": [
              "<IPython.core.display.HTML object>"
            ]
          },
          "metadata": {
            "tags": []
          }
        },
        {
          "output_type": "display_data",
          "data": {
            "text/html": [
              "<script src='https://www.gstatic.com/external_hosted/mathjax/latest/MathJax.js?config=default'></script>"
            ],
            "text/plain": [
              "<IPython.core.display.HTML object>"
            ]
          },
          "metadata": {
            "tags": []
          }
        },
        {
          "output_type": "execute_result",
          "data": {
            "text/html": [
              "<div>\n",
              "<style scoped>\n",
              "    .dataframe tbody tr th:only-of-type {\n",
              "        vertical-align: middle;\n",
              "    }\n",
              "\n",
              "    .dataframe tbody tr th {\n",
              "        vertical-align: top;\n",
              "    }\n",
              "\n",
              "    .dataframe thead th {\n",
              "        text-align: right;\n",
              "    }\n",
              "</style>\n",
              "<table border=\"1\" class=\"dataframe\">\n",
              "  <thead>\n",
              "    <tr style=\"text-align: right;\">\n",
              "      <th></th>\n",
              "      <th>symbol</th>\n",
              "      <th>date</th>\n",
              "      <th>price</th>\n",
              "    </tr>\n",
              "  </thead>\n",
              "  <tbody>\n",
              "    <tr>\n",
              "      <th>0</th>\n",
              "      <td>MSFT</td>\n",
              "      <td>2000-01-01</td>\n",
              "      <td>39.81</td>\n",
              "    </tr>\n",
              "    <tr>\n",
              "      <th>1</th>\n",
              "      <td>MSFT</td>\n",
              "      <td>2000-02-01</td>\n",
              "      <td>36.35</td>\n",
              "    </tr>\n",
              "    <tr>\n",
              "      <th>2</th>\n",
              "      <td>MSFT</td>\n",
              "      <td>2000-03-01</td>\n",
              "      <td>43.22</td>\n",
              "    </tr>\n",
              "    <tr>\n",
              "      <th>3</th>\n",
              "      <td>MSFT</td>\n",
              "      <td>2000-04-01</td>\n",
              "      <td>28.37</td>\n",
              "    </tr>\n",
              "    <tr>\n",
              "      <th>4</th>\n",
              "      <td>MSFT</td>\n",
              "      <td>2000-05-01</td>\n",
              "      <td>25.45</td>\n",
              "    </tr>\n",
              "    <tr>\n",
              "      <th>...</th>\n",
              "      <td>...</td>\n",
              "      <td>...</td>\n",
              "      <td>...</td>\n",
              "    </tr>\n",
              "    <tr>\n",
              "      <th>555</th>\n",
              "      <td>AAPL</td>\n",
              "      <td>2009-11-01</td>\n",
              "      <td>199.91</td>\n",
              "    </tr>\n",
              "    <tr>\n",
              "      <th>556</th>\n",
              "      <td>AAPL</td>\n",
              "      <td>2009-12-01</td>\n",
              "      <td>210.73</td>\n",
              "    </tr>\n",
              "    <tr>\n",
              "      <th>557</th>\n",
              "      <td>AAPL</td>\n",
              "      <td>2010-01-01</td>\n",
              "      <td>192.06</td>\n",
              "    </tr>\n",
              "    <tr>\n",
              "      <th>558</th>\n",
              "      <td>AAPL</td>\n",
              "      <td>2010-02-01</td>\n",
              "      <td>204.62</td>\n",
              "    </tr>\n",
              "    <tr>\n",
              "      <th>559</th>\n",
              "      <td>AAPL</td>\n",
              "      <td>2010-03-01</td>\n",
              "      <td>223.02</td>\n",
              "    </tr>\n",
              "  </tbody>\n",
              "</table>\n",
              "<p>560 rows × 3 columns</p>\n",
              "</div>"
            ],
            "text/plain": [
              "    symbol       date   price\n",
              "0     MSFT 2000-01-01   39.81\n",
              "1     MSFT 2000-02-01   36.35\n",
              "2     MSFT 2000-03-01   43.22\n",
              "3     MSFT 2000-04-01   28.37\n",
              "4     MSFT 2000-05-01   25.45\n",
              "..     ...        ...     ...\n",
              "555   AAPL 2009-11-01  199.91\n",
              "556   AAPL 2009-12-01  210.73\n",
              "557   AAPL 2010-01-01  192.06\n",
              "558   AAPL 2010-02-01  204.62\n",
              "559   AAPL 2010-03-01  223.02\n",
              "\n",
              "[560 rows x 3 columns]"
            ]
          },
          "metadata": {
            "tags": []
          },
          "execution_count": 8
        }
      ]
    },
    {
      "cell_type": "code",
      "metadata": {
        "id": "9kbkUowyOJS5",
        "colab_type": "code",
        "colab": {
          "base_uri": "https://localhost:8080/",
          "height": 84
        },
        "outputId": "11f2c6f8-dc02-4616-af33-7f4506a03497"
      },
      "source": [
        "stocks.dtypes"
      ],
      "execution_count": null,
      "outputs": [
        {
          "output_type": "display_data",
          "data": {
            "text/html": [
              "<script src='https://www.gstatic.com/external_hosted/mathjax/latest/MathJax.js?config=default'></script>"
            ],
            "text/plain": [
              "<IPython.core.display.HTML object>"
            ]
          },
          "metadata": {
            "tags": []
          }
        },
        {
          "output_type": "display_data",
          "data": {
            "text/html": [
              "<script src='https://www.gstatic.com/external_hosted/mathjax/latest/MathJax.js?config=default'></script>"
            ],
            "text/plain": [
              "<IPython.core.display.HTML object>"
            ]
          },
          "metadata": {
            "tags": []
          }
        },
        {
          "output_type": "execute_result",
          "data": {
            "text/plain": [
              "symbol            object\n",
              "date      datetime64[ns]\n",
              "price            float64\n",
              "dtype: object"
            ]
          },
          "metadata": {
            "tags": []
          },
          "execution_count": 9
        }
      ]
    }
  ]
}